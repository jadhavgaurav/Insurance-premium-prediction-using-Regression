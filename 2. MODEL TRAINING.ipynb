{
 "cells": [
  {
   "attachments": {},
   "cell_type": "markdown",
   "id": "92e48866",
   "metadata": {},
   "source": [
    "## Model Training"
   ]
  },
  {
   "cell_type": "markdown",
   "id": "25791a74",
   "metadata": {},
   "source": [
    "#### 1.1 Import Data and Required Packages\n",
    "##### Importing Pandas, Numpy, Matplotlib, Seaborn and Warings Library."
   ]
  },
  {
   "cell_type": "code",
   "execution_count": 87,
   "id": "b080dfb2",
   "metadata": {},
   "outputs": [],
   "source": [
    "# Basic Import\n",
    "import numpy as np\n",
    "import pandas as pd\n",
    "import matplotlib.pyplot as plt \n",
    "import seaborn as sns\n",
    "# Modelling\n",
    "from sklearn.metrics import mean_squared_error, r2_score\n",
    "from sklearn.neighbors import KNeighborsRegressor\n",
    "from sklearn.tree import DecisionTreeRegressor\n",
    "from sklearn.ensemble import RandomForestRegressor,AdaBoostRegressor\n",
    "from sklearn.svm import SVR\n",
    "from sklearn.linear_model import LinearRegression, Ridge,Lasso\n",
    "from sklearn.metrics import r2_score, mean_absolute_error, mean_squared_error\n",
    "from sklearn.model_selection import RandomizedSearchCV\n",
    "from catboost import CatBoostRegressor\n",
    "from xgboost import XGBRegressor\n",
    "import warnings"
   ]
  },
  {
   "cell_type": "markdown",
   "id": "e45079ad",
   "metadata": {},
   "source": [
    "#### Import the CSV Data as Pandas DataFrame"
   ]
  },
  {
   "cell_type": "code",
   "execution_count": 88,
   "id": "e11c6255",
   "metadata": {},
   "outputs": [],
   "source": [
    "df = pd.read_csv('insurance.csv')"
   ]
  },
  {
   "cell_type": "code",
   "execution_count": 89,
   "id": "b816401a",
   "metadata": {},
   "outputs": [
    {
     "data": {
      "text/plain": [
       "(1338, 7)"
      ]
     },
     "execution_count": 89,
     "metadata": {},
     "output_type": "execute_result"
    }
   ],
   "source": [
    "df.shape"
   ]
  },
  {
   "cell_type": "markdown",
   "id": "20634923",
   "metadata": {},
   "source": [
    "#### Show Top 5 Records"
   ]
  },
  {
   "cell_type": "code",
   "execution_count": 90,
   "id": "e7e412a2",
   "metadata": {},
   "outputs": [
    {
     "data": {
      "text/html": [
       "<div>\n",
       "<style scoped>\n",
       "    .dataframe tbody tr th:only-of-type {\n",
       "        vertical-align: middle;\n",
       "    }\n",
       "\n",
       "    .dataframe tbody tr th {\n",
       "        vertical-align: top;\n",
       "    }\n",
       "\n",
       "    .dataframe thead th {\n",
       "        text-align: right;\n",
       "    }\n",
       "</style>\n",
       "<table border=\"1\" class=\"dataframe\">\n",
       "  <thead>\n",
       "    <tr style=\"text-align: right;\">\n",
       "      <th></th>\n",
       "      <th>age</th>\n",
       "      <th>sex</th>\n",
       "      <th>bmi</th>\n",
       "      <th>children</th>\n",
       "      <th>smoker</th>\n",
       "      <th>region</th>\n",
       "      <th>charges</th>\n",
       "    </tr>\n",
       "  </thead>\n",
       "  <tbody>\n",
       "    <tr>\n",
       "      <th>0</th>\n",
       "      <td>19</td>\n",
       "      <td>female</td>\n",
       "      <td>27.900</td>\n",
       "      <td>0</td>\n",
       "      <td>yes</td>\n",
       "      <td>southwest</td>\n",
       "      <td>16884.92400</td>\n",
       "    </tr>\n",
       "    <tr>\n",
       "      <th>1</th>\n",
       "      <td>18</td>\n",
       "      <td>male</td>\n",
       "      <td>33.770</td>\n",
       "      <td>1</td>\n",
       "      <td>no</td>\n",
       "      <td>southeast</td>\n",
       "      <td>1725.55230</td>\n",
       "    </tr>\n",
       "    <tr>\n",
       "      <th>2</th>\n",
       "      <td>28</td>\n",
       "      <td>male</td>\n",
       "      <td>33.000</td>\n",
       "      <td>3</td>\n",
       "      <td>no</td>\n",
       "      <td>southeast</td>\n",
       "      <td>4449.46200</td>\n",
       "    </tr>\n",
       "    <tr>\n",
       "      <th>3</th>\n",
       "      <td>33</td>\n",
       "      <td>male</td>\n",
       "      <td>22.705</td>\n",
       "      <td>0</td>\n",
       "      <td>no</td>\n",
       "      <td>northwest</td>\n",
       "      <td>21984.47061</td>\n",
       "    </tr>\n",
       "    <tr>\n",
       "      <th>4</th>\n",
       "      <td>32</td>\n",
       "      <td>male</td>\n",
       "      <td>28.880</td>\n",
       "      <td>0</td>\n",
       "      <td>no</td>\n",
       "      <td>northwest</td>\n",
       "      <td>3866.85520</td>\n",
       "    </tr>\n",
       "  </tbody>\n",
       "</table>\n",
       "</div>"
      ],
      "text/plain": [
       "   age     sex     bmi  children smoker     region      charges\n",
       "0   19  female  27.900         0    yes  southwest  16884.92400\n",
       "1   18    male  33.770         1     no  southeast   1725.55230\n",
       "2   28    male  33.000         3     no  southeast   4449.46200\n",
       "3   33    male  22.705         0     no  northwest  21984.47061\n",
       "4   32    male  28.880         0     no  northwest   3866.85520"
      ]
     },
     "execution_count": 90,
     "metadata": {},
     "output_type": "execute_result"
    }
   ],
   "source": [
    "df.head()"
   ]
  },
  {
   "cell_type": "markdown",
   "id": "fbd32281",
   "metadata": {},
   "source": [
    "#### Preparing X and Y variables"
   ]
  },
  {
   "cell_type": "code",
   "execution_count": 91,
   "id": "56d72fde",
   "metadata": {},
   "outputs": [],
   "source": [
    "X = df.drop(columns=['charges'],axis=1)"
   ]
  },
  {
   "cell_type": "code",
   "execution_count": 92,
   "id": "cd613177",
   "metadata": {},
   "outputs": [
    {
     "data": {
      "text/html": [
       "<div>\n",
       "<style scoped>\n",
       "    .dataframe tbody tr th:only-of-type {\n",
       "        vertical-align: middle;\n",
       "    }\n",
       "\n",
       "    .dataframe tbody tr th {\n",
       "        vertical-align: top;\n",
       "    }\n",
       "\n",
       "    .dataframe thead th {\n",
       "        text-align: right;\n",
       "    }\n",
       "</style>\n",
       "<table border=\"1\" class=\"dataframe\">\n",
       "  <thead>\n",
       "    <tr style=\"text-align: right;\">\n",
       "      <th></th>\n",
       "      <th>age</th>\n",
       "      <th>sex</th>\n",
       "      <th>bmi</th>\n",
       "      <th>children</th>\n",
       "      <th>smoker</th>\n",
       "      <th>region</th>\n",
       "    </tr>\n",
       "  </thead>\n",
       "  <tbody>\n",
       "    <tr>\n",
       "      <th>0</th>\n",
       "      <td>19</td>\n",
       "      <td>female</td>\n",
       "      <td>27.900</td>\n",
       "      <td>0</td>\n",
       "      <td>yes</td>\n",
       "      <td>southwest</td>\n",
       "    </tr>\n",
       "    <tr>\n",
       "      <th>1</th>\n",
       "      <td>18</td>\n",
       "      <td>male</td>\n",
       "      <td>33.770</td>\n",
       "      <td>1</td>\n",
       "      <td>no</td>\n",
       "      <td>southeast</td>\n",
       "    </tr>\n",
       "    <tr>\n",
       "      <th>2</th>\n",
       "      <td>28</td>\n",
       "      <td>male</td>\n",
       "      <td>33.000</td>\n",
       "      <td>3</td>\n",
       "      <td>no</td>\n",
       "      <td>southeast</td>\n",
       "    </tr>\n",
       "    <tr>\n",
       "      <th>3</th>\n",
       "      <td>33</td>\n",
       "      <td>male</td>\n",
       "      <td>22.705</td>\n",
       "      <td>0</td>\n",
       "      <td>no</td>\n",
       "      <td>northwest</td>\n",
       "    </tr>\n",
       "    <tr>\n",
       "      <th>4</th>\n",
       "      <td>32</td>\n",
       "      <td>male</td>\n",
       "      <td>28.880</td>\n",
       "      <td>0</td>\n",
       "      <td>no</td>\n",
       "      <td>northwest</td>\n",
       "    </tr>\n",
       "  </tbody>\n",
       "</table>\n",
       "</div>"
      ],
      "text/plain": [
       "   age     sex     bmi  children smoker     region\n",
       "0   19  female  27.900         0    yes  southwest\n",
       "1   18    male  33.770         1     no  southeast\n",
       "2   28    male  33.000         3     no  southeast\n",
       "3   33    male  22.705         0     no  northwest\n",
       "4   32    male  28.880         0     no  northwest"
      ]
     },
     "execution_count": 92,
     "metadata": {},
     "output_type": "execute_result"
    }
   ],
   "source": [
    "X.head()"
   ]
  },
  {
   "cell_type": "code",
   "execution_count": 93,
   "id": "f237ea14",
   "metadata": {},
   "outputs": [
    {
     "name": "stdout",
     "output_type": "stream",
     "text": [
      "Categories in 'sex' variable:      ['female' 'male']\n",
      "Categories in 'smoker' variable:   ['yes' 'no']\n",
      "Categories in'parental level of education' variable: ['southwest' 'southeast' 'northwest' 'northeast']\n"
     ]
    }
   ],
   "source": [
    "print(\"Categories in 'sex' variable:     \",end=\" \" )\n",
    "print(df['sex'].unique())\n",
    "\n",
    "print(\"Categories in 'smoker' variable:  \",end=\" \")\n",
    "print(df['smoker'].unique())\n",
    "\n",
    "print(\"Categories in'parental level of education' variable:\",end=\" \" )\n",
    "print(df['region'].unique())\n"
   ]
  },
  {
   "cell_type": "code",
   "execution_count": 94,
   "id": "924b7f9d",
   "metadata": {},
   "outputs": [],
   "source": [
    "y = df['charges']"
   ]
  },
  {
   "cell_type": "code",
   "execution_count": 95,
   "id": "ffc69816",
   "metadata": {},
   "outputs": [
    {
     "data": {
      "text/plain": [
       "0       16884.92400\n",
       "1        1725.55230\n",
       "2        4449.46200\n",
       "3       21984.47061\n",
       "4        3866.85520\n",
       "           ...     \n",
       "1333    10600.54830\n",
       "1334     2205.98080\n",
       "1335     1629.83350\n",
       "1336     2007.94500\n",
       "1337    29141.36030\n",
       "Name: charges, Length: 1338, dtype: float64"
      ]
     },
     "execution_count": 95,
     "metadata": {},
     "output_type": "execute_result"
    }
   ],
   "source": [
    "y"
   ]
  },
  {
   "cell_type": "code",
   "execution_count": 96,
   "id": "1e290fe3",
   "metadata": {},
   "outputs": [],
   "source": [
    "# Create Column Transformer with 3 types of transformers\n",
    "\n",
    "from sklearn.compose import ColumnTransformer\n",
    "from sklearn.preprocessing import StandardScaler, OneHotEncoder, PowerTransformer\n",
    "import pickle\n",
    "\n",
    "# Define categorical and numerical features\n",
    "cat_features = [\"sex\", \"smoker\", \"region\"]\n",
    "num_features = [\"age\", \"bmi\", \"children\"]\n",
    "\n",
    "# Define the preprocessor\n",
    "preprocessor = ColumnTransformer([\n",
    "    (\"cat\", OneHotEncoder(), cat_features),\n",
    "    (\"num\", StandardScaler(), num_features)\n",
    "])\n",
    "\n"
   ]
  },
  {
   "cell_type": "code",
   "execution_count": 97,
   "id": "0b6c7137",
   "metadata": {},
   "outputs": [
    {
     "name": "stdout",
     "output_type": "stream",
     "text": [
      "Skewness before Transformation: 1.5158796580240388\n"
     ]
    }
   ],
   "source": [
    "print(\"Skewness before Transformation:\", y.skew())"
   ]
  },
  {
   "cell_type": "code",
   "execution_count": 98,
   "id": "7ed36f3a",
   "metadata": {},
   "outputs": [
    {
     "name": "stdout",
     "output_type": "stream",
     "text": [
      "Skewness After Transformation: -0.008708879288064627\n"
     ]
    }
   ],
   "source": [
    "pt_y = PowerTransformer(method='yeo-johnson', standardize=True)\n",
    "\n",
    "# Transform and convert back to a Pandas Series\n",
    "y_transformed = pd.Series(pt_y.fit_transform(y.values.reshape(-1, 1)).flatten())\n",
    "\n",
    "# Compute skewness\n",
    "print(\"Skewness After Transformation:\", y_transformed.skew())\n",
    "\n",
    "    "
   ]
  },
  {
   "cell_type": "code",
   "execution_count": 99,
   "id": "9c68f99a",
   "metadata": {},
   "outputs": [],
   "source": [
    "X = preprocessor.fit_transform(X)\n",
    "\n",
    "# Fit the preprocessor to the training data\n",
    "\n",
    "# Save the preprocessor along with the model\n",
    "# with open('preprocessor.pkl', 'wb') as file:\n",
    "#     pickle.dump(X, file)\n",
    "\n",
    "# print(\"Preprocessor saved as 'preprocessor.pkl'.\")"
   ]
  },
  {
   "cell_type": "code",
   "execution_count": 100,
   "id": "72459f1d",
   "metadata": {},
   "outputs": [
    {
     "data": {
      "text/plain": [
       "(1338, 11)"
      ]
     },
     "execution_count": 100,
     "metadata": {},
     "output_type": "execute_result"
    }
   ],
   "source": [
    "X.shape"
   ]
  },
  {
   "cell_type": "code",
   "execution_count": 101,
   "id": "ed5c4e99",
   "metadata": {},
   "outputs": [
    {
     "data": {
      "text/plain": [
       "((1070, 11), (268, 11))"
      ]
     },
     "execution_count": 101,
     "metadata": {},
     "output_type": "execute_result"
    }
   ],
   "source": [
    "# separate dataset into train and test\n",
    "from sklearn.model_selection import train_test_split\n",
    "X_train, X_test, y_train, y_test = train_test_split(X,y_transformed,test_size=0.2,random_state=42)\n",
    "X_train.shape, X_test.shape"
   ]
  },
  {
   "cell_type": "markdown",
   "id": "4cd80317",
   "metadata": {},
   "source": [
    "#### Create an Evaluate Function to give all metrics after model Training"
   ]
  },
  {
   "cell_type": "code",
   "execution_count": 102,
   "id": "8c247bd0",
   "metadata": {},
   "outputs": [],
   "source": [
    "def evaluate_model(true, predicted):\n",
    "    mae = mean_absolute_error(true, predicted)\n",
    "    mse = mean_squared_error(true, predicted)\n",
    "    rmse = np.sqrt(mean_squared_error(true, predicted))\n",
    "    r2_square = r2_score(true, predicted)\n",
    "    return mae, rmse, r2_square"
   ]
  },
  {
   "cell_type": "code",
   "execution_count": 103,
   "id": "79ccb8e7",
   "metadata": {
    "scrolled": false
   },
   "outputs": [
    {
     "name": "stdout",
     "output_type": "stream",
     "text": [
      "Training Linear Regression...\n",
      "Linear Regression - Model performance for Training set\n",
      "- RMSE: 0.4853\n",
      "- MAE: 0.3054\n",
      "- R2 Score: 0.7603\n",
      "\n",
      "Linear Regression - Model performance for Test set\n",
      "- RMSE: 0.4530\n",
      "- MAE: 0.2934\n",
      "- R2 Score: 0.8073\n",
      "Linear Regression - Cross-Validation R2 Scores: [0.82163164 0.86268786 0.76883485 0.78574398 0.7352251 ]\n",
      "Linear Regression - Mean R2 (CV): 0.7948\n",
      "========================================\n",
      "\n",
      "\n",
      "Training K-Neighbors Regressor...\n",
      "K-Neighbors Regressor - Model performance for Training set\n",
      "- RMSE: 0.3974\n",
      "- MAE: 0.2436\n",
      "- R2 Score: 0.8393\n",
      "\n",
      "K-Neighbors Regressor - Model performance for Test set\n",
      "- RMSE: 0.4849\n",
      "- MAE: 0.3106\n",
      "- R2 Score: 0.7791\n",
      "K-Neighbors Regressor - Cross-Validation R2 Scores: [0.74152384 0.69241862 0.59891903 0.7595574  0.67128174]\n",
      "K-Neighbors Regressor - Mean R2 (CV): 0.6927\n",
      "========================================\n",
      "\n",
      "\n",
      "Training Decision Tree...\n",
      "Decision Tree - Model performance for Training set\n",
      "- RMSE: 0.0724\n",
      "- MAE: 0.0044\n",
      "- R2 Score: 0.9947\n",
      "\n",
      "Decision Tree - Model performance for Test set\n",
      "- RMSE: 0.5507\n",
      "- MAE: 0.2465\n",
      "- R2 Score: 0.7152\n",
      "Decision Tree - Cross-Validation R2 Scores: [0.72282545 0.53573289 0.7131582  0.72225271 0.73179781]\n",
      "Decision Tree - Mean R2 (CV): 0.6852\n",
      "========================================\n",
      "\n",
      "\n",
      "Training Random Forest Regressor...\n",
      "Random Forest Regressor - Model performance for Training set\n",
      "- RMSE: 0.1768\n",
      "- MAE: 0.0866\n",
      "- R2 Score: 0.9682\n",
      "\n",
      "Random Forest Regressor - Model performance for Test set\n",
      "- RMSE: 0.4086\n",
      "- MAE: 0.2052\n",
      "- R2 Score: 0.8431\n",
      "Random Forest Regressor - Cross-Validation R2 Scores: [0.81893166 0.88382257 0.84121147 0.77706379 0.72585667]\n",
      "Random Forest Regressor - Mean R2 (CV): 0.8094\n",
      "========================================\n",
      "\n",
      "\n",
      "Training CatBoosting Regressor...\n",
      "CatBoosting Regressor - Model performance for Training set\n",
      "- RMSE: 0.2373\n",
      "- MAE: 0.1301\n",
      "- R2 Score: 0.9427\n",
      "\n",
      "CatBoosting Regressor - Model performance for Test set\n",
      "- RMSE: 0.3913\n",
      "- MAE: 0.2055\n",
      "- R2 Score: 0.8562\n",
      "CatBoosting Regressor - Cross-Validation R2 Scores: [0.85261831 0.89016065 0.75181809 0.77711159 0.72296964]\n",
      "CatBoosting Regressor - Mean R2 (CV): 0.7989\n",
      "========================================\n",
      "\n",
      "\n",
      "Training AdaBoost Regressor...\n",
      "AdaBoost Regressor - Model performance for Training set\n",
      "- RMSE: 0.5214\n",
      "- MAE: 0.4063\n",
      "- R2 Score: 0.7233\n",
      "\n",
      "AdaBoost Regressor - Model performance for Test set\n",
      "- RMSE: 0.5681\n",
      "- MAE: 0.4479\n",
      "- R2 Score: 0.6968\n",
      "AdaBoost Regressor - Cross-Validation R2 Scores: [0.70203083 0.77463963 0.73690673 0.71947502 0.64363086]\n",
      "AdaBoost Regressor - Mean R2 (CV): 0.7153\n",
      "========================================\n",
      "\n",
      "\n",
      "Training Support Vector Machine...\n",
      "Support Vector Machine - Model performance for Training set\n",
      "- RMSE: 0.4019\n",
      "- MAE: 0.1769\n",
      "- R2 Score: 0.8356\n",
      "\n",
      "Support Vector Machine - Model performance for Test set\n",
      "- RMSE: 0.3893\n",
      "- MAE: 0.1734\n",
      "- R2 Score: 0.8576\n",
      "Support Vector Machine - Cross-Validation R2 Scores: [0.87474501 0.85394425 0.77995807 0.804061   0.7364689 ]\n",
      "Support Vector Machine - Mean R2 (CV): 0.8098\n",
      "========================================\n",
      "\n",
      "\n"
     ]
    }
   ],
   "source": [
    "from sklearn.model_selection import cross_val_score, KFold\n",
    "import numpy as np\n",
    "import pandas as pd\n",
    "from sklearn.base import BaseEstimator, RegressorMixin\n",
    "\n",
    "# class CustomCatBoostRegressor(CatBoostRegressor, BaseEstimator, RegressorMixin):\n",
    "#     def __init__(self, **kwargs):\n",
    "#         super().__init__(**kwargs)\n",
    "\n",
    "# class CustomXGBRegressor(XGBRegressor, BaseEstimator, RegressorMixin):\n",
    "#     def __init__(self, **kwargs):\n",
    "#         super().__init__(**kwargs)\n",
    "\n",
    "kf = KFold(n_splits=5, shuffle=True, random_state=42)  # 5-Fold Cross Validation\n",
    "\n",
    "models = {\n",
    "    \"Linear Regression\": LinearRegression(),\n",
    "    \"K-Neighbors Regressor\": KNeighborsRegressor(),\n",
    "    \"Decision Tree\": DecisionTreeRegressor(),\n",
    "    \"Random Forest Regressor\": RandomForestRegressor(),\n",
    "    \"CatBoosting Regressor\": CatBoostRegressor(verbose=False),\n",
    "    \"AdaBoost Regressor\": AdaBoostRegressor(),\n",
    "    'Support Vector Machine': SVR()\n",
    "}\n",
    "\n",
    "model_list = []\n",
    "r2_list = []\n",
    "cv_r2_list = []\n",
    "\n",
    "for name, model in models.items():\n",
    "    print(f\"Training {name}...\")\n",
    "\n",
    "    # Fit the model\n",
    "    model.fit(X_train, y_train)\n",
    "    \n",
    "    # Predictions\n",
    "    y_train_pred = model.predict(X_train)\n",
    "    y_test_pred = model.predict(X_test)\n",
    "    \n",
    "    # Evaluate on Train/Test Split\n",
    "    model_train_mae, model_train_rmse, model_train_r2 = evaluate_model(y_train, y_train_pred)\n",
    "    model_test_mae, model_test_rmse, model_test_r2 = evaluate_model(y_test, y_test_pred)\n",
    "    \n",
    "    # Perform Cross-Validation\n",
    "    cv_scores = cross_val_score(model, X_test, y_test, scoring='r2', cv=kf, n_jobs=-1)\n",
    "    mean_cv_r2 = np.mean(cv_scores)\n",
    "\n",
    "    # Store Results\n",
    "    model_list.append(name)\n",
    "    r2_list.append(model_test_r2)\n",
    "    cv_r2_list.append(mean_cv_r2)\n",
    "    \n",
    "    # Print Results\n",
    "    \n",
    "    print(f\"{name} - Model performance for Training set\")\n",
    "    print(f\"- RMSE: {model_train_rmse:.4f}\")\n",
    "    print(f\"- MAE: {model_train_mae:.4f}\")\n",
    "    print(f\"- R2 Score: {model_train_r2:.4f}\\n\")\n",
    "    \n",
    "    print(f\"{name} - Model performance for Test set\")\n",
    "    print(f\"- RMSE: {model_test_rmse:.4f}\")\n",
    "    print(f\"- MAE: {model_test_mae:.4f}\")\n",
    "    print(f\"- R2 Score: {model_test_r2:.4f}\")\n",
    "    \n",
    "    print(f\"{name} - Cross-Validation R2 Scores: {cv_scores}\")\n",
    "    print(f\"{name} - Mean R2 (CV): {mean_cv_r2:.4f}\")\n",
    "    \n",
    "    print('=' * 40)\n",
    "    print('\\n')\n",
    "\n",
    "# Create DataFrame for Comparison\n",
    "results_df = pd.DataFrame({\n",
    "    'Model': model_list,\n",
    "    'Test R2 (Hold-out)': r2_list,\n",
    "    'Mean R2 (Cross-Validation)': cv_r2_list\n",
    "})\n",
    "\n",
    "# Sort by CV Score\n",
    "results_df = results_df.sort_values(by='Mean R2 (Cross-Validation)', ascending=False)\n",
    "\n"
   ]
  },
  {
   "cell_type": "code",
   "execution_count": 104,
   "id": "cde8fdcd",
   "metadata": {},
   "outputs": [
    {
     "data": {
      "text/html": [
       "<div>\n",
       "<style scoped>\n",
       "    .dataframe tbody tr th:only-of-type {\n",
       "        vertical-align: middle;\n",
       "    }\n",
       "\n",
       "    .dataframe tbody tr th {\n",
       "        vertical-align: top;\n",
       "    }\n",
       "\n",
       "    .dataframe thead th {\n",
       "        text-align: right;\n",
       "    }\n",
       "</style>\n",
       "<table border=\"1\" class=\"dataframe\">\n",
       "  <thead>\n",
       "    <tr style=\"text-align: right;\">\n",
       "      <th></th>\n",
       "      <th>Model</th>\n",
       "      <th>Test R2 (Hold-out)</th>\n",
       "      <th>Mean R2 (Cross-Validation)</th>\n",
       "    </tr>\n",
       "  </thead>\n",
       "  <tbody>\n",
       "    <tr>\n",
       "      <th>6</th>\n",
       "      <td>Support Vector Machine</td>\n",
       "      <td>0.857615</td>\n",
       "      <td>0.809835</td>\n",
       "    </tr>\n",
       "    <tr>\n",
       "      <th>3</th>\n",
       "      <td>Random Forest Regressor</td>\n",
       "      <td>0.843132</td>\n",
       "      <td>0.809377</td>\n",
       "    </tr>\n",
       "    <tr>\n",
       "      <th>4</th>\n",
       "      <td>CatBoosting Regressor</td>\n",
       "      <td>0.856176</td>\n",
       "      <td>0.798936</td>\n",
       "    </tr>\n",
       "    <tr>\n",
       "      <th>0</th>\n",
       "      <td>Linear Regression</td>\n",
       "      <td>0.807255</td>\n",
       "      <td>0.794825</td>\n",
       "    </tr>\n",
       "    <tr>\n",
       "      <th>5</th>\n",
       "      <td>AdaBoost Regressor</td>\n",
       "      <td>0.696776</td>\n",
       "      <td>0.715337</td>\n",
       "    </tr>\n",
       "    <tr>\n",
       "      <th>1</th>\n",
       "      <td>K-Neighbors Regressor</td>\n",
       "      <td>0.779140</td>\n",
       "      <td>0.692740</td>\n",
       "    </tr>\n",
       "    <tr>\n",
       "      <th>2</th>\n",
       "      <td>Decision Tree</td>\n",
       "      <td>0.715160</td>\n",
       "      <td>0.685153</td>\n",
       "    </tr>\n",
       "  </tbody>\n",
       "</table>\n",
       "</div>"
      ],
      "text/plain": [
       "                     Model  Test R2 (Hold-out)  Mean R2 (Cross-Validation)\n",
       "6   Support Vector Machine            0.857615                    0.809835\n",
       "3  Random Forest Regressor            0.843132                    0.809377\n",
       "4    CatBoosting Regressor            0.856176                    0.798936\n",
       "0        Linear Regression            0.807255                    0.794825\n",
       "5       AdaBoost Regressor            0.696776                    0.715337\n",
       "1    K-Neighbors Regressor            0.779140                    0.692740\n",
       "2            Decision Tree            0.715160                    0.685153"
      ]
     },
     "execution_count": 104,
     "metadata": {},
     "output_type": "execute_result"
    }
   ],
   "source": [
    "# Display Results\n",
    "results_df"
   ]
  },
  {
   "cell_type": "code",
   "execution_count": null,
   "id": "b4627d10",
   "metadata": {},
   "outputs": [],
   "source": []
  },
  {
   "cell_type": "markdown",
   "id": "06480b5a",
   "metadata": {},
   "source": [
    "### Results"
   ]
  },
  {
   "cell_type": "code",
   "execution_count": 105,
   "id": "e0159e5f",
   "metadata": {},
   "outputs": [
    {
     "data": {
      "text/html": [
       "<div>\n",
       "<style scoped>\n",
       "    .dataframe tbody tr th:only-of-type {\n",
       "        vertical-align: middle;\n",
       "    }\n",
       "\n",
       "    .dataframe tbody tr th {\n",
       "        vertical-align: top;\n",
       "    }\n",
       "\n",
       "    .dataframe thead th {\n",
       "        text-align: right;\n",
       "    }\n",
       "</style>\n",
       "<table border=\"1\" class=\"dataframe\">\n",
       "  <thead>\n",
       "    <tr style=\"text-align: right;\">\n",
       "      <th></th>\n",
       "      <th>Model Name</th>\n",
       "      <th>R2_Score</th>\n",
       "      <th>CV_R2_score</th>\n",
       "    </tr>\n",
       "  </thead>\n",
       "  <tbody>\n",
       "    <tr>\n",
       "      <th>6</th>\n",
       "      <td>Support Vector Machine</td>\n",
       "      <td>0.857615</td>\n",
       "      <td>0.809835</td>\n",
       "    </tr>\n",
       "    <tr>\n",
       "      <th>3</th>\n",
       "      <td>Random Forest Regressor</td>\n",
       "      <td>0.843132</td>\n",
       "      <td>0.809377</td>\n",
       "    </tr>\n",
       "    <tr>\n",
       "      <th>4</th>\n",
       "      <td>CatBoosting Regressor</td>\n",
       "      <td>0.856176</td>\n",
       "      <td>0.798936</td>\n",
       "    </tr>\n",
       "    <tr>\n",
       "      <th>0</th>\n",
       "      <td>Linear Regression</td>\n",
       "      <td>0.807255</td>\n",
       "      <td>0.794825</td>\n",
       "    </tr>\n",
       "    <tr>\n",
       "      <th>5</th>\n",
       "      <td>AdaBoost Regressor</td>\n",
       "      <td>0.696776</td>\n",
       "      <td>0.715337</td>\n",
       "    </tr>\n",
       "    <tr>\n",
       "      <th>1</th>\n",
       "      <td>K-Neighbors Regressor</td>\n",
       "      <td>0.779140</td>\n",
       "      <td>0.692740</td>\n",
       "    </tr>\n",
       "    <tr>\n",
       "      <th>2</th>\n",
       "      <td>Decision Tree</td>\n",
       "      <td>0.715160</td>\n",
       "      <td>0.685153</td>\n",
       "    </tr>\n",
       "  </tbody>\n",
       "</table>\n",
       "</div>"
      ],
      "text/plain": [
       "                Model Name  R2_Score  CV_R2_score\n",
       "6   Support Vector Machine  0.857615     0.809835\n",
       "3  Random Forest Regressor  0.843132     0.809377\n",
       "4    CatBoosting Regressor  0.856176     0.798936\n",
       "0        Linear Regression  0.807255     0.794825\n",
       "5       AdaBoost Regressor  0.696776     0.715337\n",
       "1    K-Neighbors Regressor  0.779140     0.692740\n",
       "2            Decision Tree  0.715160     0.685153"
      ]
     },
     "execution_count": 105,
     "metadata": {},
     "output_type": "execute_result"
    }
   ],
   "source": [
    "model_r2_df = pd.DataFrame(list(zip(model_list, r2_list, cv_r2_list)), columns=['Model Name', 'R2_Score', 'CV_R2_score']).sort_values(by=[\"CV_R2_score\"],ascending=False)\n",
    "model_r2_df"
   ]
  },
  {
   "cell_type": "code",
   "execution_count": null,
   "id": "d1267f57",
   "metadata": {},
   "outputs": [],
   "source": []
  },
  {
   "cell_type": "markdown",
   "id": "3f282762",
   "metadata": {},
   "source": [
    "# Support Vector Regressor visualization"
   ]
  },
  {
   "cell_type": "code",
   "execution_count": 113,
   "id": "3d2de907",
   "metadata": {},
   "outputs": [
    {
     "name": "stdout",
     "output_type": "stream",
     "text": [
      " Accuracy of the model on training is 83.56\n",
      " Accuracy of the model on test is 85.76\n"
     ]
    }
   ],
   "source": [
    "# Fit the model\n",
    "final_model = SVR()\n",
    "final_model.fit(X_train, y_train)\n",
    "\n",
    "# Predictions\n",
    "y_train_pred = model.predict(X_train)\n",
    "y_test_pred = model.predict(X_test)\n",
    "\n",
    "train_score = r2_score(y_train, y_train_pred)*100\n",
    "print(\" Accuracy of the model on training is %.2f\" %train_score)\n",
    "\n",
    "test_score = r2_score(y_test, y_test_pred)*100\n",
    "print(\" Accuracy of the model on test is %.2f\" %test_score)"
   ]
  },
  {
   "cell_type": "code",
   "execution_count": 107,
   "id": "746d4fb3",
   "metadata": {},
   "outputs": [
    {
     "data": {
      "image/png": "[encoded data removed]",
      "text/plain": [
       "<Figure size 1200x600 with 2 Axes>"
      ]
     },
     "metadata": {},
     "output_type": "display_data"
    }
   ],
   "source": [
    "plt.figure(figsize=(12,6))\n",
    "plt.subplot(121)\n",
    "sns.regplot(x=y_train,y=y_train_pred,ci=None,color ='red');\n",
    "plt.title('Training Data')\n",
    "plt.xlabel('Actual');\n",
    "plt.ylabel('Predicted');\n",
    "plt.subplot(122)\n",
    "sns.regplot(x=y_test,y=y_test_pred,ci=None,color ='red');\n",
    "plt.title('Test Data')\n",
    "plt.xlabel('Actual');\n",
    "plt.ylabel('Predicted');"
   ]
  },
  {
   "cell_type": "code",
   "execution_count": null,
   "id": "95e07589",
   "metadata": {},
   "outputs": [],
   "source": []
  },
  {
   "cell_type": "markdown",
   "id": "357a7c1c",
   "metadata": {},
   "source": [
    "## Linear Regression"
   ]
  },
  {
   "cell_type": "code",
   "execution_count": 108,
   "id": "9a6ad559",
   "metadata": {},
   "outputs": [
    {
     "name": "stdout",
     "output_type": "stream",
     "text": [
      " Accuracy of the model is 80.73\n"
     ]
    }
   ],
   "source": [
    "lin_model = LinearRegression(fit_intercept=True)\n",
    "lin_model = lin_model.fit(X_train, y_train)\n",
    "y_pred = lin_model.predict(X_test)\n",
    "score = r2_score(y_test, y_pred)*100\n",
    "print(\" Accuracy of the model is %.2f\" %score)"
   ]
  },
  {
   "cell_type": "markdown",
   "id": "1d31453e",
   "metadata": {},
   "source": [
    "## Plot y_pred and y_test"
   ]
  },
  {
   "cell_type": "code",
   "execution_count": 109,
   "id": "eb557b0a",
   "metadata": {},
   "outputs": [
    {
     "data": {
      "image/png": "[encoded data removed]",
      "text/plain": [
       "<Figure size 640x480 with 1 Axes>"
      ]
     },
     "metadata": {},
     "output_type": "display_data"
    }
   ],
   "source": [
    "plt.scatter(y_test,y_pred);\n",
    "plt.xlabel('Actual');\n",
    "plt.ylabel('Predicted');"
   ]
  },
  {
   "cell_type": "code",
   "execution_count": 110,
   "id": "1e707ec3",
   "metadata": {},
   "outputs": [
    {
     "data": {
      "image/png": "[encoded data removed]",
      "text/plain": [
       "<Figure size 640x480 with 1 Axes>"
      ]
     },
     "metadata": {},
     "output_type": "display_data"
    }
   ],
   "source": [
    "sns.regplot(x=y_test,y=y_pred,ci=None,color ='red');"
   ]
  },
  {
   "cell_type": "markdown",
   "id": "79c2fe28",
   "metadata": {},
   "source": [
    "#### Difference between Actual and Predicted Values"
   ]
  },
  {
   "cell_type": "code",
   "execution_count": 111,
   "id": "7c9a8b48",
   "metadata": {},
   "outputs": [
    {
     "data": {
      "text/html": [
       "<div>\n",
       "<style scoped>\n",
       "    .dataframe tbody tr th:only-of-type {\n",
       "        vertical-align: middle;\n",
       "    }\n",
       "\n",
       "    .dataframe tbody tr th {\n",
       "        vertical-align: top;\n",
       "    }\n",
       "\n",
       "    .dataframe thead th {\n",
       "        text-align: right;\n",
       "    }\n",
       "</style>\n",
       "<table border=\"1\" class=\"dataframe\">\n",
       "  <thead>\n",
       "    <tr style=\"text-align: right;\">\n",
       "      <th></th>\n",
       "      <th>Actual Value</th>\n",
       "      <th>Predicted Value</th>\n",
       "      <th>Difference</th>\n",
       "    </tr>\n",
       "  </thead>\n",
       "  <tbody>\n",
       "    <tr>\n",
       "      <th>764</th>\n",
       "      <td>-0.001730</td>\n",
       "      <td>-0.002305</td>\n",
       "      <td>0.000575</td>\n",
       "    </tr>\n",
       "    <tr>\n",
       "      <th>887</th>\n",
       "      <td>-0.588942</td>\n",
       "      <td>-0.511333</td>\n",
       "      <td>-0.077609</td>\n",
       "    </tr>\n",
       "    <tr>\n",
       "      <th>890</th>\n",
       "      <td>1.307400</td>\n",
       "      <td>2.177423</td>\n",
       "      <td>-0.870023</td>\n",
       "    </tr>\n",
       "    <tr>\n",
       "      <th>1293</th>\n",
       "      <td>0.022786</td>\n",
       "      <td>0.003009</td>\n",
       "      <td>0.019777</td>\n",
       "    </tr>\n",
       "    <tr>\n",
       "      <th>259</th>\n",
       "      <td>1.468841</td>\n",
       "      <td>0.530228</td>\n",
       "      <td>0.938613</td>\n",
       "    </tr>\n",
       "    <tr>\n",
       "      <th>...</th>\n",
       "      <td>...</td>\n",
       "      <td>...</td>\n",
       "      <td>...</td>\n",
       "    </tr>\n",
       "    <tr>\n",
       "      <th>109</th>\n",
       "      <td>1.855095</td>\n",
       "      <td>2.107501</td>\n",
       "      <td>-0.252406</td>\n",
       "    </tr>\n",
       "    <tr>\n",
       "      <th>575</th>\n",
       "      <td>0.322462</td>\n",
       "      <td>0.250500</td>\n",
       "      <td>0.071962</td>\n",
       "    </tr>\n",
       "    <tr>\n",
       "      <th>535</th>\n",
       "      <td>-0.439037</td>\n",
       "      <td>-0.388328</td>\n",
       "      <td>-0.050708</td>\n",
       "    </tr>\n",
       "    <tr>\n",
       "      <th>543</th>\n",
       "      <td>2.213295</td>\n",
       "      <td>2.044199</td>\n",
       "      <td>0.169096</td>\n",
       "    </tr>\n",
       "    <tr>\n",
       "      <th>846</th>\n",
       "      <td>0.087834</td>\n",
       "      <td>0.128987</td>\n",
       "      <td>-0.041153</td>\n",
       "    </tr>\n",
       "  </tbody>\n",
       "</table>\n",
       "<p>268 rows × 3 columns</p>\n",
       "</div>"
      ],
      "text/plain": [
       "      Actual Value  Predicted Value  Difference\n",
       "764      -0.001730        -0.002305    0.000575\n",
       "887      -0.588942        -0.511333   -0.077609\n",
       "890       1.307400         2.177423   -0.870023\n",
       "1293      0.022786         0.003009    0.019777\n",
       "259       1.468841         0.530228    0.938613\n",
       "...            ...              ...         ...\n",
       "109       1.855095         2.107501   -0.252406\n",
       "575       0.322462         0.250500    0.071962\n",
       "535      -0.439037        -0.388328   -0.050708\n",
       "543       2.213295         2.044199    0.169096\n",
       "846       0.087834         0.128987   -0.041153\n",
       "\n",
       "[268 rows x 3 columns]"
      ]
     },
     "execution_count": 111,
     "metadata": {},
     "output_type": "execute_result"
    }
   ],
   "source": [
    "pred_df=pd.DataFrame({'Actual Value':y_test,'Predicted Value':y_pred,'Difference':y_test-y_pred})\n",
    "pred_df"
   ]
  },
  {
   "cell_type": "code",
   "execution_count": null,
   "id": "4235195a",
   "metadata": {},
   "outputs": [],
   "source": []
  },
  {
   "cell_type": "code",
   "execution_count": null,
   "id": "a03e9e6c",
   "metadata": {},
   "outputs": [],
   "source": []
  },
  {
   "cell_type": "code",
   "execution_count": 112,
   "id": "ace710e5",
   "metadata": {},
   "outputs": [
    {
     "name": "stdout",
     "output_type": "stream",
     "text": [
      "The best model 'Support Vector Machine' with R2 score: 0.809835446768156.\n"
     ]
    }
   ],
   "source": [
    "import pickle\n",
    "\n",
    "# # Assume the best model has been identified\n",
    "# best_model_index = r2_list.index(max(cv_r2_list))  # Find index of the best R2 score\n",
    "# best_model_name = model_list[best_model_index]  # Get the name of the best model\n",
    "# best_model = models[best_model_name]  # Retrieve the best model instance\n",
    "\n",
    "best_model_name = model_r2_df.iloc[0, 0] # Get the name of the best model']\n",
    "best_model_score = model_r2_df.iloc[0, 2]\n",
    "# Save the trained model\n",
    "# with open('best_model.pkl', 'wb') as file:\n",
    "#     pickle.dump(best_model, file)\n",
    "\n",
    "print(f\"The best model '{best_model_name}' with R2 score: {best_model_score}.\")\n"
   ]
  },
  {
   "cell_type": "code",
   "execution_count": null,
   "id": "1981d96e",
   "metadata": {},
   "outputs": [],
   "source": []
  }
 ],
 "metadata": {
  "kernelspec": {
   "display_name": "venv",
   "language": "python",
   "name": "python3"
  },
  "language_info": {
   "codemirror_mode": {
    "name": "ipython",
    "version": 3
   },
   "file_extension": ".py",
   "mimetype": "text/x-python",
   "name": "python",
   "nbconvert_exporter": "python",
   "pygments_lexer": "ipython3",
   "version": "3.10.0"
  },
  "polyglot_notebook": {
   "kernelInfo": {
    "defaultKernelName": "csharp",
    "items": [
     {
      "aliases": [],
      "name": "csharp"
     }
    ]
   }
  }
 },
 "nbformat": 4,
 "nbformat_minor": 5
}
