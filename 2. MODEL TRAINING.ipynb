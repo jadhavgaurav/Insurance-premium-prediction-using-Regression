{
 "cells": [
  {
   "attachments": {},
   "cell_type": "markdown",
   "id": "92e48866",
   "metadata": {},
   "source": [
    "## Model Training"
   ]
  },
  {
   "cell_type": "markdown",
   "id": "25791a74",
   "metadata": {},
   "source": [
    "#### 1.1 Import Data and Required Packages\n",
    "##### Importing Pandas, Numpy, Matplotlib, Seaborn and Warings Library."
   ]
  },
  {
   "cell_type": "code",
   "execution_count": 1,
   "id": "b080dfb2",
   "metadata": {},
   "outputs": [],
   "source": [
    "# Basic Import\n",
    "import numpy as np\n",
    "import pandas as pd\n",
    "import matplotlib.pyplot as plt \n",
    "import seaborn as sns\n",
    "# Modelling\n",
    "from sklearn.metrics import mean_squared_error, r2_score\n",
    "from sklearn.neighbors import KNeighborsRegressor\n",
    "from sklearn.tree import DecisionTreeRegressor\n",
    "from sklearn.ensemble import RandomForestRegressor,AdaBoostRegressor\n",
    "from sklearn.model_selection import GridSearchCV, RandomizedSearchCV\n",
    "from sklearn.svm import SVR\n",
    "from sklearn.linear_model import LinearRegression, Ridge,Lasso\n",
    "from sklearn.metrics import r2_score, mean_absolute_error, mean_squared_error\n",
    "from sklearn.pipeline import Pipeline\n",
    "from catboost import CatBoostRegressor\n",
    "\n",
    "import warnings\n",
    "import joblib"
   ]
  },
  {
   "cell_type": "markdown",
   "id": "e45079ad",
   "metadata": {},
   "source": [
    "#### Import the CSV Data as Pandas DataFrame"
   ]
  },
  {
   "cell_type": "code",
   "execution_count": 2,
   "id": "e11c6255",
   "metadata": {},
   "outputs": [],
   "source": [
    "df = pd.read_csv('insurance.csv')"
   ]
  },
  {
   "cell_type": "code",
   "execution_count": 3,
   "id": "b816401a",
   "metadata": {},
   "outputs": [
    {
     "data": {
      "text/plain": [
       "(1338, 7)"
      ]
     },
     "execution_count": 3,
     "metadata": {},
     "output_type": "execute_result"
    }
   ],
   "source": [
    "df.shape"
   ]
  },
  {
   "cell_type": "markdown",
   "id": "20634923",
   "metadata": {},
   "source": [
    "#### Show Top 5 Records"
   ]
  },
  {
   "cell_type": "code",
   "execution_count": 4,
   "id": "e7e412a2",
   "metadata": {},
   "outputs": [
    {
     "data": {
      "text/html": [
       "<div>\n",
       "<style scoped>\n",
       "    .dataframe tbody tr th:only-of-type {\n",
       "        vertical-align: middle;\n",
       "    }\n",
       "\n",
       "    .dataframe tbody tr th {\n",
       "        vertical-align: top;\n",
       "    }\n",
       "\n",
       "    .dataframe thead th {\n",
       "        text-align: right;\n",
       "    }\n",
       "</style>\n",
       "<table border=\"1\" class=\"dataframe\">\n",
       "  <thead>\n",
       "    <tr style=\"text-align: right;\">\n",
       "      <th></th>\n",
       "      <th>age</th>\n",
       "      <th>sex</th>\n",
       "      <th>bmi</th>\n",
       "      <th>children</th>\n",
       "      <th>smoker</th>\n",
       "      <th>region</th>\n",
       "      <th>charges</th>\n",
       "    </tr>\n",
       "  </thead>\n",
       "  <tbody>\n",
       "    <tr>\n",
       "      <th>0</th>\n",
       "      <td>19</td>\n",
       "      <td>female</td>\n",
       "      <td>27.900</td>\n",
       "      <td>0</td>\n",
       "      <td>yes</td>\n",
       "      <td>southwest</td>\n",
       "      <td>16884.92400</td>\n",
       "    </tr>\n",
       "    <tr>\n",
       "      <th>1</th>\n",
       "      <td>18</td>\n",
       "      <td>male</td>\n",
       "      <td>33.770</td>\n",
       "      <td>1</td>\n",
       "      <td>no</td>\n",
       "      <td>southeast</td>\n",
       "      <td>1725.55230</td>\n",
       "    </tr>\n",
       "    <tr>\n",
       "      <th>2</th>\n",
       "      <td>28</td>\n",
       "      <td>male</td>\n",
       "      <td>33.000</td>\n",
       "      <td>3</td>\n",
       "      <td>no</td>\n",
       "      <td>southeast</td>\n",
       "      <td>4449.46200</td>\n",
       "    </tr>\n",
       "    <tr>\n",
       "      <th>3</th>\n",
       "      <td>33</td>\n",
       "      <td>male</td>\n",
       "      <td>22.705</td>\n",
       "      <td>0</td>\n",
       "      <td>no</td>\n",
       "      <td>northwest</td>\n",
       "      <td>21984.47061</td>\n",
       "    </tr>\n",
       "    <tr>\n",
       "      <th>4</th>\n",
       "      <td>32</td>\n",
       "      <td>male</td>\n",
       "      <td>28.880</td>\n",
       "      <td>0</td>\n",
       "      <td>no</td>\n",
       "      <td>northwest</td>\n",
       "      <td>3866.85520</td>\n",
       "    </tr>\n",
       "  </tbody>\n",
       "</table>\n",
       "</div>"
      ],
      "text/plain": [
       "   age     sex     bmi  children smoker     region      charges\n",
       "0   19  female  27.900         0    yes  southwest  16884.92400\n",
       "1   18    male  33.770         1     no  southeast   1725.55230\n",
       "2   28    male  33.000         3     no  southeast   4449.46200\n",
       "3   33    male  22.705         0     no  northwest  21984.47061\n",
       "4   32    male  28.880         0     no  northwest   3866.85520"
      ]
     },
     "execution_count": 4,
     "metadata": {},
     "output_type": "execute_result"
    }
   ],
   "source": [
    "df.head()"
   ]
  },
  {
   "cell_type": "code",
   "execution_count": 5,
   "id": "65940a12",
   "metadata": {},
   "outputs": [
    {
     "data": {
      "text/html": [
       "<div>\n",
       "<style scoped>\n",
       "    .dataframe tbody tr th:only-of-type {\n",
       "        vertical-align: middle;\n",
       "    }\n",
       "\n",
       "    .dataframe tbody tr th {\n",
       "        vertical-align: top;\n",
       "    }\n",
       "\n",
       "    .dataframe thead th {\n",
       "        text-align: right;\n",
       "    }\n",
       "</style>\n",
       "<table border=\"1\" class=\"dataframe\">\n",
       "  <thead>\n",
       "    <tr style=\"text-align: right;\">\n",
       "      <th></th>\n",
       "      <th>age</th>\n",
       "      <th>sex</th>\n",
       "      <th>bmi</th>\n",
       "      <th>children</th>\n",
       "      <th>smoker</th>\n",
       "      <th>region</th>\n",
       "      <th>charges</th>\n",
       "    </tr>\n",
       "  </thead>\n",
       "  <tbody>\n",
       "    <tr>\n",
       "      <th>1092</th>\n",
       "      <td>23</td>\n",
       "      <td>male</td>\n",
       "      <td>32.70</td>\n",
       "      <td>3</td>\n",
       "      <td>no</td>\n",
       "      <td>southwest</td>\n",
       "      <td>3591.4800</td>\n",
       "    </tr>\n",
       "    <tr>\n",
       "      <th>388</th>\n",
       "      <td>26</td>\n",
       "      <td>female</td>\n",
       "      <td>22.61</td>\n",
       "      <td>0</td>\n",
       "      <td>no</td>\n",
       "      <td>northwest</td>\n",
       "      <td>3176.8159</td>\n",
       "    </tr>\n",
       "    <tr>\n",
       "      <th>1168</th>\n",
       "      <td>32</td>\n",
       "      <td>male</td>\n",
       "      <td>35.20</td>\n",
       "      <td>2</td>\n",
       "      <td>no</td>\n",
       "      <td>southwest</td>\n",
       "      <td>4670.6400</td>\n",
       "    </tr>\n",
       "    <tr>\n",
       "      <th>738</th>\n",
       "      <td>23</td>\n",
       "      <td>male</td>\n",
       "      <td>31.73</td>\n",
       "      <td>3</td>\n",
       "      <td>yes</td>\n",
       "      <td>northeast</td>\n",
       "      <td>36189.1017</td>\n",
       "    </tr>\n",
       "    <tr>\n",
       "      <th>43</th>\n",
       "      <td>37</td>\n",
       "      <td>female</td>\n",
       "      <td>30.80</td>\n",
       "      <td>2</td>\n",
       "      <td>no</td>\n",
       "      <td>southeast</td>\n",
       "      <td>6313.7590</td>\n",
       "    </tr>\n",
       "    <tr>\n",
       "      <th>1309</th>\n",
       "      <td>41</td>\n",
       "      <td>male</td>\n",
       "      <td>32.20</td>\n",
       "      <td>2</td>\n",
       "      <td>no</td>\n",
       "      <td>southwest</td>\n",
       "      <td>6875.9610</td>\n",
       "    </tr>\n",
       "    <tr>\n",
       "      <th>934</th>\n",
       "      <td>32</td>\n",
       "      <td>male</td>\n",
       "      <td>37.18</td>\n",
       "      <td>2</td>\n",
       "      <td>no</td>\n",
       "      <td>southeast</td>\n",
       "      <td>4673.3922</td>\n",
       "    </tr>\n",
       "    <tr>\n",
       "      <th>408</th>\n",
       "      <td>38</td>\n",
       "      <td>male</td>\n",
       "      <td>21.12</td>\n",
       "      <td>3</td>\n",
       "      <td>no</td>\n",
       "      <td>southeast</td>\n",
       "      <td>6652.5288</td>\n",
       "    </tr>\n",
       "    <tr>\n",
       "      <th>834</th>\n",
       "      <td>36</td>\n",
       "      <td>male</td>\n",
       "      <td>33.82</td>\n",
       "      <td>1</td>\n",
       "      <td>no</td>\n",
       "      <td>northwest</td>\n",
       "      <td>5377.4578</td>\n",
       "    </tr>\n",
       "    <tr>\n",
       "      <th>0</th>\n",
       "      <td>19</td>\n",
       "      <td>female</td>\n",
       "      <td>27.90</td>\n",
       "      <td>0</td>\n",
       "      <td>yes</td>\n",
       "      <td>southwest</td>\n",
       "      <td>16884.9240</td>\n",
       "    </tr>\n",
       "  </tbody>\n",
       "</table>\n",
       "</div>"
      ],
      "text/plain": [
       "      age     sex    bmi  children smoker     region     charges\n",
       "1092   23    male  32.70         3     no  southwest   3591.4800\n",
       "388    26  female  22.61         0     no  northwest   3176.8159\n",
       "1168   32    male  35.20         2     no  southwest   4670.6400\n",
       "738    23    male  31.73         3    yes  northeast  36189.1017\n",
       "43     37  female  30.80         2     no  southeast   6313.7590\n",
       "1309   41    male  32.20         2     no  southwest   6875.9610\n",
       "934    32    male  37.18         2     no  southeast   4673.3922\n",
       "408    38    male  21.12         3     no  southeast   6652.5288\n",
       "834    36    male  33.82         1     no  northwest   5377.4578\n",
       "0      19  female  27.90         0    yes  southwest  16884.9240"
      ]
     },
     "execution_count": 5,
     "metadata": {},
     "output_type": "execute_result"
    }
   ],
   "source": [
    "df.sample(10)"
   ]
  },
  {
   "cell_type": "code",
   "execution_count": 6,
   "id": "089513de",
   "metadata": {},
   "outputs": [
    {
     "name": "stdout",
     "output_type": "stream",
     "text": [
      "Number of duplicated rows: 1\n",
      "Display duplicated rows along with index\n"
     ]
    },
    {
     "data": {
      "text/html": [
       "<div>\n",
       "<style scoped>\n",
       "    .dataframe tbody tr th:only-of-type {\n",
       "        vertical-align: middle;\n",
       "    }\n",
       "\n",
       "    .dataframe tbody tr th {\n",
       "        vertical-align: top;\n",
       "    }\n",
       "\n",
       "    .dataframe thead th {\n",
       "        text-align: right;\n",
       "    }\n",
       "</style>\n",
       "<table border=\"1\" class=\"dataframe\">\n",
       "  <thead>\n",
       "    <tr style=\"text-align: right;\">\n",
       "      <th></th>\n",
       "      <th>age</th>\n",
       "      <th>sex</th>\n",
       "      <th>bmi</th>\n",
       "      <th>children</th>\n",
       "      <th>smoker</th>\n",
       "      <th>region</th>\n",
       "      <th>charges</th>\n",
       "    </tr>\n",
       "  </thead>\n",
       "  <tbody>\n",
       "    <tr>\n",
       "      <th>195</th>\n",
       "      <td>19</td>\n",
       "      <td>male</td>\n",
       "      <td>30.59</td>\n",
       "      <td>0</td>\n",
       "      <td>no</td>\n",
       "      <td>northwest</td>\n",
       "      <td>1639.5631</td>\n",
       "    </tr>\n",
       "    <tr>\n",
       "      <th>581</th>\n",
       "      <td>19</td>\n",
       "      <td>male</td>\n",
       "      <td>30.59</td>\n",
       "      <td>0</td>\n",
       "      <td>no</td>\n",
       "      <td>northwest</td>\n",
       "      <td>1639.5631</td>\n",
       "    </tr>\n",
       "  </tbody>\n",
       "</table>\n",
       "</div>"
      ],
      "text/plain": [
       "     age   sex    bmi  children smoker     region    charges\n",
       "195   19  male  30.59         0     no  northwest  1639.5631\n",
       "581   19  male  30.59         0     no  northwest  1639.5631"
      ]
     },
     "execution_count": 6,
     "metadata": {},
     "output_type": "execute_result"
    }
   ],
   "source": [
    "print(f\"Number of duplicated rows: {df.duplicated().sum()}\")\n",
    "print(f\"Display duplicated rows along with index\")\n",
    "df[df.duplicated(keep=False)]"
   ]
  },
  {
   "cell_type": "code",
   "execution_count": 7,
   "id": "7d9d5d8a",
   "metadata": {},
   "outputs": [
    {
     "name": "stdout",
     "output_type": "stream",
     "text": [
      "Number of duplicated rows: 0\n"
     ]
    }
   ],
   "source": [
    "df = df.drop_duplicates()\n",
    "print(f\"Number of duplicated rows: {df.duplicated().sum()}\")"
   ]
  },
  {
   "cell_type": "code",
   "execution_count": null,
   "id": "15ac8ea2",
   "metadata": {},
   "outputs": [],
   "source": []
  },
  {
   "cell_type": "code",
   "execution_count": 8,
   "id": "3a93e969",
   "metadata": {},
   "outputs": [
    {
     "data": {
      "image/png": "[encoded data removed]",
      "text/plain": [
       "<Figure size 1500x500 with 3 Axes>"
      ]
     },
     "metadata": {},
     "output_type": "display_data"
    }
   ],
   "source": [
    "import matplotlib.pyplot as plt\n",
    "import seaborn as sns\n",
    "\n",
    "# Visualize outliers using boxplots\n",
    "plt.figure(figsize=(15, 5))\n",
    "\n",
    "plt.subplot(1, 3, 1)\n",
    "sns.boxplot(y=df['age'])\n",
    "plt.title('Boxplot - Age')\n",
    "\n",
    "plt.subplot(1, 3, 2)\n",
    "sns.boxplot(y=df['bmi'])\n",
    "plt.title('Boxplot - BMI')\n",
    "\n",
    "plt.subplot(1, 3, 3)\n",
    "sns.boxplot(y=df['charges'])\n",
    "plt.title('Boxplot - Charges')\n",
    "\n",
    "plt.tight_layout()\n",
    "plt.show()\n"
   ]
  },
  {
   "cell_type": "code",
   "execution_count": null,
   "id": "27cb593e",
   "metadata": {},
   "outputs": [],
   "source": []
  },
  {
   "cell_type": "code",
   "execution_count": 9,
   "id": "923a0fcf",
   "metadata": {},
   "outputs": [
    {
     "name": "stdout",
     "output_type": "stream",
     "text": [
      "Outliers in Age: 0\n",
      "Outliers in BMI: 9\n",
      "Outliers in Charges: 139\n"
     ]
    }
   ],
   "source": [
    "# Function to detect outliers using IQR\n",
    "def detect_outliers_iqr(data, column):\n",
    "    Q1 = data[column].quantile(0.25)\n",
    "    Q3 = data[column].quantile(0.75)\n",
    "    IQR = Q3 - Q1\n",
    "    lower_bound = Q1 - 1.5 * IQR\n",
    "    upper_bound = Q3 + 1.5 * IQR\n",
    "    outliers = data[(data[column] < lower_bound) | (data[column] > upper_bound)]\n",
    "    return outliers\n",
    "\n",
    "outliers_age = detect_outliers_iqr(df, 'age')\n",
    "outliers_bmi = detect_outliers_iqr(df, 'bmi')\n",
    "outliers_charges = detect_outliers_iqr(df, 'charges')\n",
    "\n",
    "print(\"Outliers in Age:\", len(outliers_age))\n",
    "print(\"Outliers in BMI:\", len(outliers_bmi))\n",
    "print(\"Outliers in Charges:\", len(outliers_charges))\n"
   ]
  },
  {
   "cell_type": "code",
   "execution_count": 10,
   "id": "158bc81b",
   "metadata": {},
   "outputs": [
    {
     "data": {
      "image/png": "[encoded data removed]",
      "text/plain": [
       "<Figure size 1500x500 with 3 Axes>"
      ]
     },
     "metadata": {},
     "output_type": "display_data"
    }
   ],
   "source": [
    "def cap_outliers(data, column):\n",
    "    Q1 = data[column].quantile(0.25)\n",
    "    Q3 = data[column].quantile(0.75)\n",
    "    IQR = Q3 - Q1\n",
    "    lower_bound = Q1 - 1.5 * IQR\n",
    "    upper_bound = Q3 + 1.5 * IQR\n",
    "    \n",
    "    data[column] = np.where(data[column] > upper_bound, upper_bound, data[column])\n",
    "    data[column] = np.where(data[column] < lower_bound, lower_bound, data[column])\n",
    "\n",
    "# Apply capping to numerical columns\n",
    "cap_outliers(df, 'age')\n",
    "cap_outliers(df, 'bmi')\n",
    "cap_outliers(df, 'charges')\n",
    "\n",
    "# Check again with boxplot\n",
    "plt.figure(figsize=(15, 5))\n",
    "\n",
    "plt.subplot(1, 3, 1)\n",
    "sns.boxplot(y=df['age'])\n",
    "plt.title('Boxplot - Age (After Capping)')\n",
    "\n",
    "plt.subplot(1, 3, 2)\n",
    "sns.boxplot(y=df['bmi'])\n",
    "plt.title('Boxplot - BMI (After Capping)')\n",
    "\n",
    "plt.subplot(1, 3, 3)\n",
    "sns.boxplot(y=df['charges'])\n",
    "plt.title('Boxplot - Charges (After Capping)')\n",
    "\n",
    "plt.tight_layout()\n",
    "plt.show()\n"
   ]
  },
  {
   "cell_type": "code",
   "execution_count": 11,
   "id": "3eee2276",
   "metadata": {},
   "outputs": [
    {
     "data": {
      "text/plain": [
       "(1337, 7)"
      ]
     },
     "execution_count": 11,
     "metadata": {},
     "output_type": "execute_result"
    }
   ],
   "source": [
    "df.shape"
   ]
  },
  {
   "cell_type": "markdown",
   "id": "fbd32281",
   "metadata": {},
   "source": [
    "#### Preparing X and Y variables"
   ]
  },
  {
   "cell_type": "code",
   "execution_count": 12,
   "id": "56d72fde",
   "metadata": {},
   "outputs": [],
   "source": [
    "X = df.drop(columns=['charges'],axis=1)"
   ]
  },
  {
   "cell_type": "code",
   "execution_count": 13,
   "id": "cd613177",
   "metadata": {},
   "outputs": [
    {
     "data": {
      "text/html": [
       "<div>\n",
       "<style scoped>\n",
       "    .dataframe tbody tr th:only-of-type {\n",
       "        vertical-align: middle;\n",
       "    }\n",
       "\n",
       "    .dataframe tbody tr th {\n",
       "        vertical-align: top;\n",
       "    }\n",
       "\n",
       "    .dataframe thead th {\n",
       "        text-align: right;\n",
       "    }\n",
       "</style>\n",
       "<table border=\"1\" class=\"dataframe\">\n",
       "  <thead>\n",
       "    <tr style=\"text-align: right;\">\n",
       "      <th></th>\n",
       "      <th>age</th>\n",
       "      <th>sex</th>\n",
       "      <th>bmi</th>\n",
       "      <th>children</th>\n",
       "      <th>smoker</th>\n",
       "      <th>region</th>\n",
       "    </tr>\n",
       "  </thead>\n",
       "  <tbody>\n",
       "    <tr>\n",
       "      <th>0</th>\n",
       "      <td>19.0</td>\n",
       "      <td>female</td>\n",
       "      <td>27.900</td>\n",
       "      <td>0</td>\n",
       "      <td>yes</td>\n",
       "      <td>southwest</td>\n",
       "    </tr>\n",
       "    <tr>\n",
       "      <th>1</th>\n",
       "      <td>18.0</td>\n",
       "      <td>male</td>\n",
       "      <td>33.770</td>\n",
       "      <td>1</td>\n",
       "      <td>no</td>\n",
       "      <td>southeast</td>\n",
       "    </tr>\n",
       "    <tr>\n",
       "      <th>2</th>\n",
       "      <td>28.0</td>\n",
       "      <td>male</td>\n",
       "      <td>33.000</td>\n",
       "      <td>3</td>\n",
       "      <td>no</td>\n",
       "      <td>southeast</td>\n",
       "    </tr>\n",
       "    <tr>\n",
       "      <th>3</th>\n",
       "      <td>33.0</td>\n",
       "      <td>male</td>\n",
       "      <td>22.705</td>\n",
       "      <td>0</td>\n",
       "      <td>no</td>\n",
       "      <td>northwest</td>\n",
       "    </tr>\n",
       "    <tr>\n",
       "      <th>4</th>\n",
       "      <td>32.0</td>\n",
       "      <td>male</td>\n",
       "      <td>28.880</td>\n",
       "      <td>0</td>\n",
       "      <td>no</td>\n",
       "      <td>northwest</td>\n",
       "    </tr>\n",
       "  </tbody>\n",
       "</table>\n",
       "</div>"
      ],
      "text/plain": [
       "    age     sex     bmi  children smoker     region\n",
       "0  19.0  female  27.900         0    yes  southwest\n",
       "1  18.0    male  33.770         1     no  southeast\n",
       "2  28.0    male  33.000         3     no  southeast\n",
       "3  33.0    male  22.705         0     no  northwest\n",
       "4  32.0    male  28.880         0     no  northwest"
      ]
     },
     "execution_count": 13,
     "metadata": {},
     "output_type": "execute_result"
    }
   ],
   "source": [
    "X.head()"
   ]
  },
  {
   "cell_type": "code",
   "execution_count": 14,
   "id": "f237ea14",
   "metadata": {},
   "outputs": [
    {
     "name": "stdout",
     "output_type": "stream",
     "text": [
      "Categories in 'sex' variable:      ['female' 'male']\n",
      "Categories in 'smoker' variable:   ['yes' 'no']\n",
      "Categories in'parental level of education' variable: ['southwest' 'southeast' 'northwest' 'northeast']\n"
     ]
    }
   ],
   "source": [
    "print(\"Categories in 'sex' variable:     \",end=\" \" )\n",
    "print(df['sex'].unique())\n",
    "\n",
    "print(\"Categories in 'smoker' variable:  \",end=\" \")\n",
    "print(df['smoker'].unique())\n",
    "\n",
    "print(\"Categories in'parental level of education' variable:\",end=\" \" )\n",
    "print(df['region'].unique())\n"
   ]
  },
  {
   "cell_type": "code",
   "execution_count": 15,
   "id": "924b7f9d",
   "metadata": {},
   "outputs": [],
   "source": [
    "y = df['charges']"
   ]
  },
  {
   "cell_type": "code",
   "execution_count": 16,
   "id": "ffc69816",
   "metadata": {},
   "outputs": [
    {
     "data": {
      "text/plain": [
       "0       16884.92400\n",
       "1        1725.55230\n",
       "2        4449.46200\n",
       "3       21984.47061\n",
       "4        3866.85520\n",
       "           ...     \n",
       "1333    10600.54830\n",
       "1334     2205.98080\n",
       "1335     1629.83350\n",
       "1336     2007.94500\n",
       "1337    29141.36030\n",
       "Name: charges, Length: 1337, dtype: float64"
      ]
     },
     "execution_count": 16,
     "metadata": {},
     "output_type": "execute_result"
    }
   ],
   "source": [
    "y"
   ]
  },
  {
   "cell_type": "markdown",
   "id": "1583624e",
   "metadata": {},
   "source": [
    "# Apply Transformations"
   ]
  },
  {
   "cell_type": "code",
   "execution_count": 17,
   "id": "1e290fe3",
   "metadata": {},
   "outputs": [],
   "source": [
    "\n",
    "from sklearn.compose import ColumnTransformer\n",
    "from sklearn.preprocessing import StandardScaler, OneHotEncoder, PowerTransformer\n",
    "\n",
    "# Define categorical and numerical features\n",
    "cat_features = [\"sex\", \"smoker\", \"region\"]\n",
    "num_features = [\"age\", \"bmi\", \"children\"]\n",
    "\n",
    "# Define the preprocessor\n",
    "preprocessor = ColumnTransformer([\n",
    "    (\"cat\", OneHotEncoder(), cat_features),\n",
    "    # (\"num\", StandardScaler(), num_features)\n",
    "    (\"num\", PowerTransformer(method='yeo-johnson', standardize=True), num_features)\n",
    "])\n",
    "\n"
   ]
  },
  {
   "cell_type": "code",
   "execution_count": 18,
   "id": "0b6c7137",
   "metadata": {},
   "outputs": [
    {
     "name": "stdout",
     "output_type": "stream",
     "text": [
      "Skewness before Transformation: 1.0846971962484675\n"
     ]
    }
   ],
   "source": [
    "print(\"Skewness before Transformation:\", y.skew())"
   ]
  },
  {
   "cell_type": "code",
   "execution_count": 19,
   "id": "7ed36f3a",
   "metadata": {},
   "outputs": [
    {
     "name": "stdout",
     "output_type": "stream",
     "text": [
      "Skewness After Transformation: -0.0286732014630139\n"
     ]
    }
   ],
   "source": [
    "pt_y = PowerTransformer(method='yeo-johnson', standardize=True)\n",
    "\n",
    "# Transform and convert back to a Pandas Series\n",
    "y_transformed = pd.Series(pt_y.fit_transform(y.values.reshape(-1, 1)).flatten())\n",
    "\n",
    "# Compute skewness\n",
    "print(\"Skewness After Transformation:\", y_transformed.skew())\n",
    "\n",
    "    "
   ]
  },
  {
   "cell_type": "code",
   "execution_count": 20,
   "id": "9c68f99a",
   "metadata": {},
   "outputs": [],
   "source": [
    "# Fit the preprocessor to the training data\n",
    "\n",
    "X = preprocessor.fit_transform(X)\n",
    "\n"
   ]
  },
  {
   "cell_type": "code",
   "execution_count": 21,
   "id": "72459f1d",
   "metadata": {},
   "outputs": [
    {
     "data": {
      "text/plain": [
       "(1337, 11)"
      ]
     },
     "execution_count": 21,
     "metadata": {},
     "output_type": "execute_result"
    }
   ],
   "source": [
    "X.shape"
   ]
  },
  {
   "cell_type": "code",
   "execution_count": null,
   "id": "05b8e27d",
   "metadata": {},
   "outputs": [],
   "source": []
  },
  {
   "cell_type": "markdown",
   "id": "b766b3bc",
   "metadata": {},
   "source": [
    " # separate dataset into train and test"
   ]
  },
  {
   "cell_type": "code",
   "execution_count": 22,
   "id": "ed5c4e99",
   "metadata": {},
   "outputs": [
    {
     "data": {
      "text/plain": [
       "((1069, 11), (268, 11))"
      ]
     },
     "execution_count": 22,
     "metadata": {},
     "output_type": "execute_result"
    }
   ],
   "source": [
    "\n",
    "from sklearn.model_selection import train_test_split\n",
    "X_train, X_test, y_train, y_test = train_test_split(X,y_transformed,test_size=0.2,random_state=42)\n",
    "X_train.shape, X_test.shape"
   ]
  },
  {
   "cell_type": "markdown",
   "id": "4cd80317",
   "metadata": {},
   "source": [
    "#### Create an Evaluate Function to give all metrics after model Training"
   ]
  },
  {
   "cell_type": "code",
   "execution_count": 23,
   "id": "8c247bd0",
   "metadata": {},
   "outputs": [],
   "source": [
    "def evaluate_model(true, predicted):\n",
    "    mae = mean_absolute_error(true, predicted)\n",
    "    mse = mean_squared_error(true, predicted)\n",
    "    rmse = np.sqrt(mean_squared_error(true, predicted))\n",
    "    r2_square = r2_score(true, predicted)\n",
    "    return mae, rmse, r2_square"
   ]
  },
  {
   "cell_type": "markdown",
   "id": "c41bcc4b-abfd-46f2-8ff8-8c148728a63d",
   "metadata": {},
   "source": [
    "# Model Training"
   ]
  },
  {
   "cell_type": "code",
   "execution_count": 24,
   "id": "79ccb8e7",
   "metadata": {},
   "outputs": [
    {
     "name": "stdout",
     "output_type": "stream",
     "text": [
      "Training Linear Regression...\n",
      "Linear Regression - Model performance for Training set\n",
      "- RMSE: 0.5064\n",
      "- MAE: 0.3264\n",
      "- R2 Score: 0.7385\n",
      "\n",
      "Linear Regression - Model performance for Test set\n",
      "- RMSE: 0.4373\n",
      "- MAE: 0.2955\n",
      "- R2 Score: 0.8222\n",
      "Linear Regression - Cross-Validation R2 Scores: [0.84394689 0.79606151 0.82271118 0.74855155 0.82640554]\n",
      "Linear Regression - Mean R2 (CV): 0.8075\n",
      "========================================\n",
      "\n",
      "\n",
      "Training K-Neighbors Regressor...\n",
      "K-Neighbors Regressor - Model performance for Training set\n",
      "- RMSE: 0.4158\n",
      "- MAE: 0.2552\n",
      "- R2 Score: 0.8238\n",
      "\n",
      "K-Neighbors Regressor - Model performance for Test set\n",
      "- RMSE: 0.4651\n",
      "- MAE: 0.3035\n",
      "- R2 Score: 0.7989\n",
      "K-Neighbors Regressor - Cross-Validation R2 Scores: [0.70516804 0.70033169 0.7356876  0.53205685 0.7367375 ]\n",
      "K-Neighbors Regressor - Mean R2 (CV): 0.6820\n",
      "========================================\n",
      "\n",
      "\n",
      "Training Decision Tree...\n",
      "Decision Tree - Model performance for Training set\n",
      "- RMSE: 0.0000\n",
      "- MAE: 0.0000\n",
      "- R2 Score: 1.0000\n",
      "\n",
      "Decision Tree - Model performance for Test set\n",
      "- RMSE: 0.5903\n",
      "- MAE: 0.2564\n",
      "- R2 Score: 0.6760\n",
      "Decision Tree - Cross-Validation R2 Scores: [0.58792757 0.66225328 0.80374365 0.7077996  0.7534015 ]\n",
      "Decision Tree - Mean R2 (CV): 0.7030\n",
      "========================================\n",
      "\n",
      "\n",
      "Training Random Forest Regressor...\n",
      "Random Forest Regressor - Model performance for Training set\n",
      "- RMSE: 0.1719\n",
      "- MAE: 0.0898\n",
      "- R2 Score: 0.9699\n",
      "\n",
      "Random Forest Regressor - Model performance for Test set\n",
      "- RMSE: 0.4221\n",
      "- MAE: 0.2122\n",
      "- R2 Score: 0.8343\n",
      "Random Forest Regressor - Cross-Validation R2 Scores: [0.87944885 0.76607009 0.88324362 0.81220401 0.82617905]\n",
      "Random Forest Regressor - Mean R2 (CV): 0.8334\n",
      "========================================\n",
      "\n",
      "\n",
      "Training CatBoosting Regressor...\n",
      "CatBoosting Regressor - Model performance for Training set\n",
      "- RMSE: 0.2435\n",
      "- MAE: 0.1320\n",
      "- R2 Score: 0.9395\n",
      "\n",
      "CatBoosting Regressor - Model performance for Test set\n",
      "- RMSE: 0.4096\n",
      "- MAE: 0.2324\n",
      "- R2 Score: 0.8440\n",
      "CatBoosting Regressor - Cross-Validation R2 Scores: [0.88186517 0.74667165 0.88366643 0.79441113 0.86408681]\n",
      "CatBoosting Regressor - Mean R2 (CV): 0.8341\n",
      "========================================\n",
      "\n",
      "\n",
      "Training AdaBoost Regressor...\n",
      "AdaBoost Regressor - Model performance for Training set\n",
      "- RMSE: 0.5436\n",
      "- MAE: 0.4291\n",
      "- R2 Score: 0.6987\n",
      "\n",
      "AdaBoost Regressor - Model performance for Test set\n",
      "- RMSE: 0.5326\n",
      "- MAE: 0.4115\n",
      "- R2 Score: 0.7362\n",
      "AdaBoost Regressor - Cross-Validation R2 Scores: [0.83227762 0.69107339 0.83783828 0.74763312 0.84162573]\n",
      "AdaBoost Regressor - Mean R2 (CV): 0.7901\n",
      "========================================\n",
      "\n",
      "\n",
      "Training Support Vector Machine...\n",
      "Support Vector Machine - Model performance for Training set\n",
      "- RMSE: 0.4239\n",
      "- MAE: 0.1816\n",
      "- R2 Score: 0.8168\n",
      "\n",
      "Support Vector Machine - Model performance for Test set\n",
      "- RMSE: 0.3626\n",
      "- MAE: 0.1671\n",
      "- R2 Score: 0.8777\n",
      "Support Vector Machine - Cross-Validation R2 Scores: [0.90103251 0.752658   0.874489   0.75466257 0.88199223]\n",
      "Support Vector Machine - Mean R2 (CV): 0.8330\n",
      "========================================\n",
      "\n",
      "\n"
     ]
    }
   ],
   "source": [
    "from sklearn.model_selection import cross_val_score, KFold\n",
    "import numpy as np\n",
    "import pandas as pd\n",
    "from sklearn.base import BaseEstimator, RegressorMixin\n",
    "\n",
    "kf = KFold(n_splits=5, shuffle=True, random_state=42)  # 5-Fold Cross Validation\n",
    "\n",
    "models = {\n",
    "    \"Linear Regression\": LinearRegression(),\n",
    "    \"K-Neighbors Regressor\": KNeighborsRegressor(),\n",
    "    \"Decision Tree\": DecisionTreeRegressor(),\n",
    "    \"Random Forest Regressor\": RandomForestRegressor(),\n",
    "    \"CatBoosting Regressor\": CatBoostRegressor(verbose=False),\n",
    "    \"AdaBoost Regressor\": AdaBoostRegressor(),\n",
    "    'Support Vector Machine': SVR()\n",
    "}\n",
    "\n",
    "\n",
    "model_list = []\n",
    "r2_list = []\n",
    "cv_r2_list = []\n",
    "\n",
    "for name, model in models.items():\n",
    "    print(f\"Training {name}...\")\n",
    "\n",
    "    # Fit the model\n",
    "    model.fit(X_train, y_train)\n",
    "    \n",
    "    # Predictions\n",
    "    y_train_pred = model.predict(X_train)\n",
    "    y_test_pred = model.predict(X_test)\n",
    "    \n",
    "    # Evaluate on Train/Test Split\n",
    "    model_train_mae, model_train_rmse, model_train_r2 = evaluate_model(y_train, y_train_pred)\n",
    "    model_test_mae, model_test_rmse, model_test_r2 = evaluate_model(y_test, y_test_pred)\n",
    "    \n",
    "    # Perform Cross-Validation\n",
    "    cv_scores = cross_val_score(model, X_test, y_test, scoring='r2', cv=kf, n_jobs=-1)\n",
    "    mean_cv_r2 = np.mean(cv_scores)\n",
    "\n",
    "    # Store Results\n",
    "    model_list.append(name)\n",
    "    r2_list.append(model_test_r2)\n",
    "    cv_r2_list.append(mean_cv_r2)\n",
    "    \n",
    "    # Print Results\n",
    "    \n",
    "    print(f\"{name} - Model performance for Training set\")\n",
    "    print(f\"- RMSE: {model_train_rmse:.4f}\")\n",
    "    print(f\"- MAE: {model_train_mae:.4f}\")\n",
    "    print(f\"- R2 Score: {model_train_r2:.4f}\\n\")\n",
    "    \n",
    "    print(f\"{name} - Model performance for Test set\")\n",
    "    print(f\"- RMSE: {model_test_rmse:.4f}\")\n",
    "    print(f\"- MAE: {model_test_mae:.4f}\")\n",
    "    print(f\"- R2 Score: {model_test_r2:.4f}\")\n",
    "    \n",
    "    print(f\"{name} - Cross-Validation R2 Scores: {cv_scores}\")\n",
    "    print(f\"{name} - Mean R2 (CV): {mean_cv_r2:.4f}\")\n",
    "    \n",
    "    print('=' * 40)\n",
    "    print('\\n')\n",
    "\n",
    "# Create DataFrame for Comparison\n",
    "results_df = pd.DataFrame({\n",
    "    'Model': model_list,\n",
    "    'Test R2 (Hold-out)': r2_list,\n",
    "    'Mean R2 (Cross-Validation)': cv_r2_list\n",
    "})\n",
    "\n",
    "# Sort by CV Score\n",
    "results_df = results_df.sort_values(by='Mean R2 (Cross-Validation)', ascending=False)\n",
    "\n"
   ]
  },
  {
   "cell_type": "code",
   "execution_count": 25,
   "id": "cde8fdcd",
   "metadata": {},
   "outputs": [
    {
     "data": {
      "text/html": [
       "<div>\n",
       "<style scoped>\n",
       "    .dataframe tbody tr th:only-of-type {\n",
       "        vertical-align: middle;\n",
       "    }\n",
       "\n",
       "    .dataframe tbody tr th {\n",
       "        vertical-align: top;\n",
       "    }\n",
       "\n",
       "    .dataframe thead th {\n",
       "        text-align: right;\n",
       "    }\n",
       "</style>\n",
       "<table border=\"1\" class=\"dataframe\">\n",
       "  <thead>\n",
       "    <tr style=\"text-align: right;\">\n",
       "      <th></th>\n",
       "      <th>Model</th>\n",
       "      <th>Test R2 (Hold-out)</th>\n",
       "      <th>Mean R2 (Cross-Validation)</th>\n",
       "    </tr>\n",
       "  </thead>\n",
       "  <tbody>\n",
       "    <tr>\n",
       "      <th>4</th>\n",
       "      <td>CatBoosting Regressor</td>\n",
       "      <td>0.843993</td>\n",
       "      <td>0.834140</td>\n",
       "    </tr>\n",
       "    <tr>\n",
       "      <th>3</th>\n",
       "      <td>Random Forest Regressor</td>\n",
       "      <td>0.834335</td>\n",
       "      <td>0.833429</td>\n",
       "    </tr>\n",
       "    <tr>\n",
       "      <th>6</th>\n",
       "      <td>Support Vector Machine</td>\n",
       "      <td>0.877715</td>\n",
       "      <td>0.832967</td>\n",
       "    </tr>\n",
       "    <tr>\n",
       "      <th>0</th>\n",
       "      <td>Linear Regression</td>\n",
       "      <td>0.822199</td>\n",
       "      <td>0.807535</td>\n",
       "    </tr>\n",
       "    <tr>\n",
       "      <th>5</th>\n",
       "      <td>AdaBoost Regressor</td>\n",
       "      <td>0.736176</td>\n",
       "      <td>0.790090</td>\n",
       "    </tr>\n",
       "    <tr>\n",
       "      <th>2</th>\n",
       "      <td>Decision Tree</td>\n",
       "      <td>0.675992</td>\n",
       "      <td>0.703025</td>\n",
       "    </tr>\n",
       "    <tr>\n",
       "      <th>1</th>\n",
       "      <td>K-Neighbors Regressor</td>\n",
       "      <td>0.798860</td>\n",
       "      <td>0.681996</td>\n",
       "    </tr>\n",
       "  </tbody>\n",
       "</table>\n",
       "</div>"
      ],
      "text/plain": [
       "                     Model  Test R2 (Hold-out)  Mean R2 (Cross-Validation)\n",
       "4    CatBoosting Regressor            0.843993                    0.834140\n",
       "3  Random Forest Regressor            0.834335                    0.833429\n",
       "6   Support Vector Machine            0.877715                    0.832967\n",
       "0        Linear Regression            0.822199                    0.807535\n",
       "5       AdaBoost Regressor            0.736176                    0.790090\n",
       "2            Decision Tree            0.675992                    0.703025\n",
       "1    K-Neighbors Regressor            0.798860                    0.681996"
      ]
     },
     "execution_count": 25,
     "metadata": {},
     "output_type": "execute_result"
    }
   ],
   "source": [
    "# Display Results\n",
    "results_df"
   ]
  },
  {
   "cell_type": "code",
   "execution_count": null,
   "id": "b4627d10",
   "metadata": {},
   "outputs": [],
   "source": []
  },
  {
   "cell_type": "markdown",
   "id": "06480b5a",
   "metadata": {},
   "source": [
    "### Results"
   ]
  },
  {
   "cell_type": "code",
   "execution_count": 26,
   "id": "e0159e5f",
   "metadata": {},
   "outputs": [
    {
     "data": {
      "text/html": [
       "<div>\n",
       "<style scoped>\n",
       "    .dataframe tbody tr th:only-of-type {\n",
       "        vertical-align: middle;\n",
       "    }\n",
       "\n",
       "    .dataframe tbody tr th {\n",
       "        vertical-align: top;\n",
       "    }\n",
       "\n",
       "    .dataframe thead th {\n",
       "        text-align: right;\n",
       "    }\n",
       "</style>\n",
       "<table border=\"1\" class=\"dataframe\">\n",
       "  <thead>\n",
       "    <tr style=\"text-align: right;\">\n",
       "      <th></th>\n",
       "      <th>Model Name</th>\n",
       "      <th>R2_Score</th>\n",
       "      <th>CV_R2_score</th>\n",
       "    </tr>\n",
       "  </thead>\n",
       "  <tbody>\n",
       "    <tr>\n",
       "      <th>4</th>\n",
       "      <td>CatBoosting Regressor</td>\n",
       "      <td>0.843993</td>\n",
       "      <td>0.834140</td>\n",
       "    </tr>\n",
       "    <tr>\n",
       "      <th>3</th>\n",
       "      <td>Random Forest Regressor</td>\n",
       "      <td>0.834335</td>\n",
       "      <td>0.833429</td>\n",
       "    </tr>\n",
       "    <tr>\n",
       "      <th>6</th>\n",
       "      <td>Support Vector Machine</td>\n",
       "      <td>0.877715</td>\n",
       "      <td>0.832967</td>\n",
       "    </tr>\n",
       "    <tr>\n",
       "      <th>0</th>\n",
       "      <td>Linear Regression</td>\n",
       "      <td>0.822199</td>\n",
       "      <td>0.807535</td>\n",
       "    </tr>\n",
       "    <tr>\n",
       "      <th>5</th>\n",
       "      <td>AdaBoost Regressor</td>\n",
       "      <td>0.736176</td>\n",
       "      <td>0.790090</td>\n",
       "    </tr>\n",
       "    <tr>\n",
       "      <th>2</th>\n",
       "      <td>Decision Tree</td>\n",
       "      <td>0.675992</td>\n",
       "      <td>0.703025</td>\n",
       "    </tr>\n",
       "    <tr>\n",
       "      <th>1</th>\n",
       "      <td>K-Neighbors Regressor</td>\n",
       "      <td>0.798860</td>\n",
       "      <td>0.681996</td>\n",
       "    </tr>\n",
       "  </tbody>\n",
       "</table>\n",
       "</div>"
      ],
      "text/plain": [
       "                Model Name  R2_Score  CV_R2_score\n",
       "4    CatBoosting Regressor  0.843993     0.834140\n",
       "3  Random Forest Regressor  0.834335     0.833429\n",
       "6   Support Vector Machine  0.877715     0.832967\n",
       "0        Linear Regression  0.822199     0.807535\n",
       "5       AdaBoost Regressor  0.736176     0.790090\n",
       "2            Decision Tree  0.675992     0.703025\n",
       "1    K-Neighbors Regressor  0.798860     0.681996"
      ]
     },
     "execution_count": 26,
     "metadata": {},
     "output_type": "execute_result"
    }
   ],
   "source": [
    "model_r2_df = pd.DataFrame(list(zip(model_list, r2_list, cv_r2_list)), columns=['Model Name', 'R2_Score', 'CV_R2_score']).sort_values(by=[\"CV_R2_score\"],ascending=False)\n",
    "model_r2_df"
   ]
  },
  {
   "cell_type": "code",
   "execution_count": null,
   "id": "d1267f57",
   "metadata": {},
   "outputs": [],
   "source": []
  },
  {
   "cell_type": "code",
   "execution_count": 27,
   "id": "250b3ed0",
   "metadata": {},
   "outputs": [
    {
     "name": "stdout",
     "output_type": "stream",
     "text": [
      "The best model 'CatBoosting Regressor' with R2 score: 0.8341402377698541.\n"
     ]
    }
   ],
   "source": [
    "import pickle\n",
    "\n",
    "# # Assume the best model has been identified\n",
    "# best_model_index = r2_list.index(max(cv_r2_list))  # Find index of the best R2 score\n",
    "# best_model_name = model_list[best_model_index]  # Get the name of the best model\n",
    "# best_model = models[best_model_name]  # Retrieve the best model instance\n",
    "\n",
    "best_model_name = model_r2_df.iloc[0, 0] # Get the name of the best model']\n",
    "best_model_score = model_r2_df.iloc[0, 2]\n",
    "# Save the trained model\n",
    "# with open('best_model.pkl', 'wb') as file:\n",
    "#     pickle.dump(best_model, file)\n",
    "\n",
    "print(f\"The best model '{best_model_name}' with R2 score: {best_model_score}.\")\n"
   ]
  },
  {
   "cell_type": "code",
   "execution_count": null,
   "id": "f15be1d5",
   "metadata": {},
   "outputs": [],
   "source": []
  },
  {
   "cell_type": "markdown",
   "id": "3f282762",
   "metadata": {},
   "source": [
    "# Support Vector Regressor visualization"
   ]
  },
  {
   "cell_type": "code",
   "execution_count": 28,
   "id": "3d2de907",
   "metadata": {},
   "outputs": [
    {
     "name": "stdout",
     "output_type": "stream",
     "text": [
      " Accuracy of the model on training is 81.68\n",
      " Accuracy of the model on test is 87.77\n"
     ]
    }
   ],
   "source": [
    "# Fit the model\n",
    "final_model = SVR()\n",
    "final_model.fit(X_train, y_train)\n",
    "\n",
    "# Predictions\n",
    "y_train_pred = model.predict(X_train)\n",
    "y_test_pred = model.predict(X_test)\n",
    "\n",
    "train_score = r2_score(y_train, y_train_pred)*100\n",
    "print(\" Accuracy of the model on training is %.2f\" %train_score)\n",
    "\n",
    "test_score = r2_score(y_test, y_test_pred)*100\n",
    "print(\" Accuracy of the model on test is %.2f\" %test_score)"
   ]
  },
  {
   "cell_type": "code",
   "execution_count": null,
   "id": "51830928",
   "metadata": {},
   "outputs": [],
   "source": []
  },
  {
   "cell_type": "markdown",
   "id": "e2d9da74",
   "metadata": {},
   "source": [
    "### SVR Visualization"
   ]
  },
  {
   "cell_type": "code",
   "execution_count": 29,
   "id": "e1b1397c",
   "metadata": {},
   "outputs": [
    {
     "data": {
      "image/png": "[encoded data removed]",
      "text/plain": [
       "<Figure size 1000x600 with 1 Axes>"
      ]
     },
     "metadata": {},
     "output_type": "display_data"
    }
   ],
   "source": [
    "# Convert to numpy array\n",
    "y_test_array = np.array(y_test)\n",
    "y_test_pred_array = np.array(y_test_pred)\n",
    "\n",
    "# Sort the data for smoother plots\n",
    "sorted_indices = np.argsort(y_test_array)\n",
    "y_test_sorted = y_test_array[sorted_indices]\n",
    "y_test_pred_sorted = y_test_pred_array[sorted_indices]\n",
    "\n",
    "# Plotting\n",
    "plt.figure(figsize=(10, 6))\n",
    "\n",
    "# Scatter plot for actual vs predicted\n",
    "sns.scatterplot(x=y_test_sorted, y=y_test_pred_sorted, color='blue', label='Predicted')\n",
    "\n",
    "# Line plot for perfect prediction\n",
    "plt.plot(y_test_sorted, y_test_sorted, color='red', linestyle='--', label='Ideal Line (y = x)')\n",
    "\n",
    "plt.title('SVR Regression Plot')\n",
    "plt.xlabel('Actual Values')\n",
    "plt.ylabel('Predicted Values')\n",
    "plt.legend()\n",
    "plt.grid(True)\n",
    "plt.show()\n"
   ]
  },
  {
   "cell_type": "code",
   "execution_count": null,
   "id": "4235195a",
   "metadata": {},
   "outputs": [],
   "source": []
  },
  {
   "cell_type": "markdown",
   "id": "6b396e81",
   "metadata": {},
   "source": [
    "# Hyperparameter Tuning for `SVR`"
   ]
  },
  {
   "cell_type": "code",
   "execution_count": null,
   "id": "12ff2d60",
   "metadata": {},
   "outputs": [],
   "source": []
  },
  {
   "cell_type": "markdown",
   "id": "f35a7285",
   "metadata": {},
   "source": [
    "Support Vector Regressor (SVR) Hyperparameters\n",
    "- C – Regularization parameter\n",
    "- epsilon – Tolerance margin around predictions\n",
    "- kernel – Kernel type ('linear', 'poly', 'rbf', 'sigmoid')\n",
    "- gamma – Kernel coefficient (for 'rbf', 'poly', 'sigmoid')"
   ]
  },
  {
   "cell_type": "markdown",
   "id": "f094fcd9",
   "metadata": {},
   "source": [
    "### usning RandomizedSearchCV"
   ]
  },
  {
   "cell_type": "code",
   "execution_count": 35,
   "id": "c1cb4533-1654-4a4b-8777-2967b07d25e7",
   "metadata": {},
   "outputs": [
    {
     "name": "stdout",
     "output_type": "stream",
     "text": [
      "Fitting 5 folds for each of 30 candidates, totalling 150 fits\n",
      "Best Hyperparameters:  {'kernel': 'rbf', 'gamma': 'scale', 'epsilon': 0.1, 'C': 1}\n",
      "Accuracy on Training Set: 81.68\n",
      "Accuracy on Test Set: 87.77\n",
      "Time taken (minutes): 0.18\n"
     ]
    }
   ],
   "source": [
    "from sklearn.svm import SVR\n",
    "from sklearn.model_selection import RandomizedSearchCV\n",
    "from sklearn.metrics import r2_score\n",
    "import time\n",
    "\n",
    "# Define the reduced parameter grid\n",
    "param_grid = {\n",
    "    'kernel': ['rbf', 'linear'],  # Focus on two key kernels\n",
    "    'C': [0.1, 1, 10, 100],  # Fewer C values\n",
    "    'epsilon': [0.01, 0.1, 0.5, 1],  # Limited epsilon options\n",
    "    'gamma': ['scale', 'auto', 0.1, 1]  # Reduced gamma options\n",
    "}\n",
    "\n",
    "# Initialize SVR model\n",
    "svr = SVR()\n",
    "\n",
    "# Perform RandomizedSearchCV with optimized parameters\n",
    "random_search = RandomizedSearchCV(\n",
    "    estimator=svr,\n",
    "    param_distributions=param_grid,\n",
    "    n_iter=30,  # Reduced iterations\n",
    "    scoring='r2',\n",
    "    cv=5,  # Fewer cross-validation folds\n",
    "    verbose=2,\n",
    "    random_state=42,\n",
    "    n_jobs=-1  # Use all available CPU cores\n",
    ")\n",
    "\n",
    "# Monitor time\n",
    "start_time = time.time()\n",
    "\n",
    "# Fit to the data\n",
    "random_search.fit(X_train, y_train)\n",
    "\n",
    "end_time = time.time()\n",
    "\n",
    "# Best hyperparameters\n",
    "print(\"Best Hyperparameters: \", random_search.best_params_)\n",
    "\n",
    "# Best model\n",
    "best_svr = random_search.best_estimator_\n",
    "\n",
    "# Predictions using the best model\n",
    "y_train_pred = best_svr.predict(X_train)\n",
    "y_test_pred = best_svr.predict(X_test)\n",
    "\n",
    "# Calculate R2 scores\n",
    "train_score = r2_score(y_train, y_train_pred) * 100\n",
    "test_score = r2_score(y_test, y_test_pred) * 100\n",
    "\n",
    "print(\"Accuracy on Training Set: %.2f\" % train_score)\n",
    "print(\"Accuracy on Test Set: %.2f\" % test_score)\n",
    "print(\"Time taken (minutes): %.2f\" % ((end_time - start_time) / 60))\n"
   ]
  },
  {
   "cell_type": "markdown",
   "id": "a5732940",
   "metadata": {},
   "source": [
    "### using GridSearchCV"
   ]
  },
  {
   "cell_type": "code",
   "execution_count": 36,
   "id": "a03e9e6c",
   "metadata": {},
   "outputs": [
    {
     "name": "stdout",
     "output_type": "stream",
     "text": [
      "Fitting 5 folds for each of 72 candidates, totalling 360 fits\n",
      "Best Hyperparameters:  {'C': 10, 'epsilon': 0.1, 'gamma': 'auto', 'kernel': 'rbf'}\n",
      "Accuracy on Training Set: 81.81\n",
      "Accuracy on Test Set: 88.05\n",
      "Time taken (minutes): 0.19\n"
     ]
    }
   ],
   "source": [
    "\n",
    "\n",
    "# Define the parameter grid\n",
    "param_grid = {\n",
    "    'kernel': ['rbf', 'linear'],  # Focus on two key kernels\n",
    "    'C': [0.1, 1, 10],  # Fewer C values\n",
    "    'epsilon': [0.01, 0.1, 0.5],  # Limited epsilon options\n",
    "    'gamma': ['scale', 'auto', 0.1, 1]  # Reduced gamma options\n",
    "}\n",
    "\n",
    "# Initialize SVR model\n",
    "svr = SVR()\n",
    "\n",
    "# Perform GridSearchCV\n",
    "grid_search = GridSearchCV(estimator=svr, \n",
    "                           param_grid=param_grid, \n",
    "                           scoring='r2', \n",
    "                           cv=5, \n",
    "                           verbose=2, \n",
    "                           n_jobs=-1)\n",
    "\n",
    "# Monitor time\n",
    "start_time = time.time()\n",
    "\n",
    "# Fit to the data\n",
    "grid_search.fit(X_train, y_train)\n",
    "\n",
    "# Best hyperparameters\n",
    "print(\"Best Hyperparameters: \", grid_search.best_params_)\n",
    "\n",
    "\n",
    "\n",
    "# Best model\n",
    "best_svr = grid_search.best_estimator_\n",
    "\n",
    "end_time = time.time()\n",
    "\n",
    "# Predictions using the best model\n",
    "y_train_pred = best_svr.predict(X_train)\n",
    "y_test_pred = best_svr.predict(X_test)\n",
    "\n",
    "# Calculate R2 scores\n",
    "train_score = r2_score(y_train, y_train_pred) * 100\n",
    "test_score = r2_score(y_test, y_test_pred) * 100\n",
    "\n",
    "print(\"Accuracy on Training Set: %.2f\" % train_score)\n",
    "print(\"Accuracy on Test Set: %.2f\" % test_score)\n",
    "print(\"Time taken (minutes): %.2f\" % ((end_time - start_time) / 60))\n"
   ]
  },
  {
   "cell_type": "code",
   "execution_count": 32,
   "id": "1981d96e",
   "metadata": {},
   "outputs": [
    {
     "data": {
      "image/png": "[encoded data removed]",
      "text/plain": [
       "<Figure size 1000x600 with 1 Axes>"
      ]
     },
     "metadata": {},
     "output_type": "display_data"
    }
   ],
   "source": [
    "# Convert to numpy array\n",
    "y_test_array = np.array(y_test)\n",
    "y_test_pred_array = np.array(y_test_pred)\n",
    "\n",
    "# Sort the data for smoother plots\n",
    "sorted_indices = np.argsort(y_test_array)\n",
    "y_test_sorted = y_test_array[sorted_indices]\n",
    "y_test_pred_sorted = y_test_pred_array[sorted_indices]\n",
    "\n",
    "# Plotting\n",
    "plt.figure(figsize=(10, 6))\n",
    "\n",
    "# Scatter plot for actual vs predicted\n",
    "sns.scatterplot(x=y_test_sorted, y=y_test_pred_sorted, color='blue', label='Predicted')\n",
    "\n",
    "# Line plot for perfect prediction\n",
    "plt.plot(y_test_sorted, y_test_sorted, color='red', linestyle='--', label='Ideal Line (y = x)')\n",
    "\n",
    "plt.title('SVR Regression Plot')\n",
    "plt.xlabel('Actual Values')\n",
    "plt.ylabel('Predicted Values')\n",
    "plt.legend()\n",
    "plt.grid(True)\n",
    "plt.show()\n"
   ]
  },
  {
   "cell_type": "markdown",
   "id": "433e3bfc",
   "metadata": {},
   "source": [
    "# Save the best model to a .pkl file\n"
   ]
  },
  {
   "cell_type": "code",
   "execution_count": 33,
   "id": "198aca61",
   "metadata": {},
   "outputs": [
    {
     "name": "stdout",
     "output_type": "stream",
     "text": [
      "Pipeline saved successfully to 'model_pipeline.joblib'\n"
     ]
    }
   ],
   "source": [
    "\n",
    "# Create the pipeline with the preprocessor and regressor\n",
    "\n",
    "model_pipeline = Pipeline(steps=[\n",
    "    ('preprocessor', preprocessor),  # The preprocessor for feature transformations\n",
    "    ('regressor', best_svr) \n",
    "])\n",
    "\n",
    "# Save the entire pipeline to a .joblib file\n",
    "joblib.dump(model_pipeline, 'model_pipeline.joblib')\n",
    "\n",
    "print(\"Pipeline saved successfully to 'model_pipeline.joblib'\")\n"
   ]
  },
  {
   "cell_type": "code",
   "execution_count": null,
   "id": "c4f639a6-e268-4e1e-a681-0b5d07992449",
   "metadata": {},
   "outputs": [],
   "source": []
  }
 ],
 "metadata": {
  "kernelspec": {
   "display_name": "Python 3 (ipykernel)",
   "language": "python",
   "name": "python3"
  },
  "language_info": {
   "codemirror_mode": {
    "name": "ipython",
    "version": 3
   },
   "file_extension": ".py",
   "mimetype": "text/x-python",
   "name": "python",
   "nbconvert_exporter": "python",
   "pygments_lexer": "ipython3",
   "version": "3.10.0"
  },
  "polyglot_notebook": {
   "kernelInfo": {
    "defaultKernelName": "csharp",
    "items": [
     {
      "aliases": [],
      "name": "csharp"
     }
    ]
   }
  }
 },
 "nbformat": 4,
 "nbformat_minor": 5
}
